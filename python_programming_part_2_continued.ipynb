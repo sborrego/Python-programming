{
 "cells": [
  {
   "cell_type": "markdown",
   "id": "1b7e84b4-cb48-4d02-acc0-b3f797d9d5d1",
   "metadata": {},
   "source": [
    "## Writing Functions\n",
    "\n",
    "* We have used built-in functions by Python, but what if you need something more specific for your work?\n",
    "* It is recommended to make a function of any piece of code that you use more than twice."
   ]
  },
  {
   "cell_type": "markdown",
   "id": "c531a9b0-e188-428e-b5bb-ecaeedec9d16",
   "metadata": {},
   "source": [
    "## How do I write my own function?\n",
    "\n",
    "* Begin the definition of the new function with `def`\n",
    "* Follow with the name of the function\n",
    "* Write parameters in parentheses\n",
    "  * Empty parenthesis indicate that the function doesn't take any inputs\n",
    "* Then a colon\n",
    "* Then an indented block of code"
   ]
  },
  {
   "cell_type": "code",
   "execution_count": 3,
   "id": "2e26e0ed-52a0-48d2-9fd2-0ce9d7b3e553",
   "metadata": {},
   "outputs": [],
   "source": [
    "# Write your first function!\n",
    "def hi():\n",
    "    print('Hello!')\n",
    "    \n"
   ]
  },
  {
   "cell_type": "markdown",
   "id": "2119eace-58fa-4bf1-8b47-b423fd7507a0",
   "metadata": {},
   "source": [
    "Note: Defining a function does not run it - just like assigning a variable. Call the function\n",
    "just as you would any built-in Python function"
   ]
  },
  {
   "cell_type": "code",
   "execution_count": 4,
   "id": "b550beee-1dd0-44b6-b911-ebb8988aede2",
   "metadata": {},
   "outputs": [
    {
     "name": "stdout",
     "output_type": "stream",
     "text": [
      "Hello!\n"
     ]
    }
   ],
   "source": [
    "hi()"
   ]
  },
  {
   "cell_type": "markdown",
   "id": "405edbd6-0619-4e69-b628-71ed8c015cdf",
   "metadata": {},
   "source": [
    "## Adding parameters to my functions\n",
    "\n",
    "* Functions are most useful when they can operate on different data.\n",
    "* How to specify parameters:\n",
    "    * Assign the arguments in the call (provide names of expected variables in the parenthesis)"
   ]
  },
  {
   "cell_type": "code",
   "execution_count": 48,
   "id": "9999fe32-4bc7-4beb-abc4-cd9b772c9149",
   "metadata": {},
   "outputs": [],
   "source": [
    "# Write a function with parameters\n",
    "def date(year, month, day):\n",
    "    joined = str(year) + '/' + str(month) + '/' + str(day)\n",
    "    print(joined)"
   ]
  },
  {
   "cell_type": "code",
   "execution_count": 49,
   "id": "368c972a-044c-4a60-a83d-085f5b50a959",
   "metadata": {},
   "outputs": [
    {
     "name": "stdout",
     "output_type": "stream",
     "text": [
      "2022/6/1\n"
     ]
    }
   ],
   "source": [
    "# Call function providing parameters unnamed and in order\n",
    "date(2022, 6, 1)"
   ]
  },
  {
   "cell_type": "code",
   "execution_count": 50,
   "id": "3fdb85db-34c6-4075-a5ea-3afa6d9d3c7a",
   "metadata": {},
   "outputs": [
    {
     "name": "stdout",
     "output_type": "stream",
     "text": [
      "1700/12/5\n"
     ]
    }
   ],
   "source": [
    "# Call function providing parameters with name\n",
    "# Naming parameters/arguments allows them to be in any order\n",
    "date(day = 5, year = 1700, month = 12)"
   ]
  },
  {
   "cell_type": "markdown",
   "id": "c5df8a11-cf28-4271-96ac-0983efe0da37",
   "metadata": {},
   "source": [
    "## Return a result in your function\n",
    "\n",
    "* Use `return` to give a value back to the caller\n",
    "* Functions are easiest to understand when `return` occurs\n",
    "  * At the start of a function to handle special cases\n",
    "  * At the end with a final result\n",
    "* Note: every function returns something\n",
    "  * If a function does not explicitly return a value, it returns `None`\n",
    "  * `None` definition: defines a null value, or no value at all. It is not the same as 0, False, or an empty string. None is a data type of its own (NoneType) and only None can be None."
   ]
  },
  {
   "cell_type": "code",
   "execution_count": 51,
   "id": "b7e7d8f9-65bb-4fff-b230-a231093c2b6b",
   "metadata": {},
   "outputs": [],
   "source": [
    "# Write a function that takes the average of a list of numbers\n",
    "def average(values):\n",
    "    if len(values) == 0:\n",
    "        return None\n",
    "    ave = sum(values) / len(values)\n",
    "    return 'The average is: ' + str(ave)"
   ]
  },
  {
   "cell_type": "code",
   "execution_count": 52,
   "id": "79eec3d0-3f6a-40d4-9bdf-2df45774f8f9",
   "metadata": {},
   "outputs": [
    {
     "name": "stdout",
     "output_type": "stream",
     "text": [
      "The average is: 202.0\n"
     ]
    }
   ],
   "source": [
    "print(average([12, 34, 560]))"
   ]
  },
  {
   "cell_type": "code",
   "execution_count": 55,
   "id": "2e4c32d5-5e6a-46af-bea0-55231dd5acb5",
   "metadata": {},
   "outputs": [
    {
     "name": "stdout",
     "output_type": "stream",
     "text": [
      "None\n"
     ]
    }
   ],
   "source": [
    "print(average([]))"
   ]
  },
  {
   "cell_type": "code",
   "execution_count": 54,
   "id": "1429f537-ba3c-4989-a07d-8bcf88b31be1",
   "metadata": {},
   "outputs": [
    {
     "name": "stdout",
     "output_type": "stream",
     "text": [
      "The average is: 4.666666666666667\n",
      "RESULTS ARE IN:  The average is: 4.666666666666667\n"
     ]
    }
   ],
   "source": [
    "# Print a function that explicitly returns a value\n",
    "a = average([1, 5, 8])\n",
    "print(a)\n",
    "print(\"RESULTS ARE IN: \", a)"
   ]
  },
  {
   "cell_type": "code",
   "execution_count": 36,
   "id": "cd63a023-ea6c-469f-a3fa-cef5a83c4af6",
   "metadata": {},
   "outputs": [
    {
     "name": "stdout",
     "output_type": "stream",
     "text": [
      "1/5/12\n",
      "None\n",
      "RESULTS ARE IN:  None\n"
     ]
    }
   ],
   "source": [
    "# Print a function that does not explicitly return a value\n",
    "# Returned value is `None`\n",
    "b = print_date(1, 5, 12)\n",
    "print(b)\n",
    "print(\"RESULTS ARE IN: \", b)"
   ]
  },
  {
   "cell_type": "markdown",
   "id": "e1198fc0-2f03-432a-ab8a-509460fc2395",
   "metadata": {},
   "source": [
    "## Egg label exercise\n",
    "\n",
    "* Pretend the code below will run an egg label printer for chicken eggs.\n",
    "* A digital scale will report a chicken egg mass (in grams) to the computer and then the computer will print a label\n",
    "* General egg info\n",
    "  * Jumbo: >= 85 grams\n",
    "  * Large: >= 70 grams\n",
    "  * Medium: < 70 grams, >= 50 grams\n",
    "  * Small: < 50"
   ]
  },
  {
   "cell_type": "code",
   "execution_count": 23,
   "id": "a1327e97-10cd-4ce6-a067-74d3623099a8",
   "metadata": {},
   "outputs": [],
   "source": [
    "# Write basic egg label making function\n",
    "def egg_label(mass):\n",
    "    label = 'Unlabeled'\n",
    "    return label"
   ]
  },
  {
   "cell_type": "code",
   "execution_count": 24,
   "id": "2d6f89d8-9745-49d2-862c-cd6773c5cd5d",
   "metadata": {},
   "outputs": [
    {
     "data": {
      "text/plain": [
       "'Unlabeled'"
      ]
     },
     "execution_count": 24,
     "metadata": {},
     "output_type": "execute_result"
    }
   ],
   "source": [
    "egg_label(2)"
   ]
  },
  {
   "cell_type": "code",
   "execution_count": 25,
   "id": "71d87001-e24f-4727-8ebf-e3ee323d3a50",
   "metadata": {},
   "outputs": [],
   "source": [
    "# Write basic egg label making function\n",
    "def egg_label(mass):\n",
    "    if mass >= 85:\n",
    "        egg_label = 'Jumbo'\n",
    "    elif mass >= 70:\n",
    "        egg_label = 'Large'\n",
    "    elif mass < 70 and mass >= 50:\n",
    "        egg_label = 'Medium'\n",
    "    else:\n",
    "        egg_label = 'Small'\n",
    "    return egg_label"
   ]
  },
  {
   "cell_type": "code",
   "execution_count": 26,
   "id": "10bf4aaa-494e-48f6-8060-328ed0d321fa",
   "metadata": {},
   "outputs": [
    {
     "data": {
      "text/plain": [
       "'Medium'"
      ]
     },
     "execution_count": 26,
     "metadata": {},
     "output_type": "execute_result"
    }
   ],
   "source": [
    "egg_label(66)"
   ]
  },
  {
   "cell_type": "code",
   "execution_count": 27,
   "id": "b5e95529-4c3e-41e1-aa70-ed989d23c653",
   "metadata": {},
   "outputs": [
    {
     "name": "stdout",
     "output_type": "stream",
     "text": [
      "41.48\n",
      "85.14\n",
      "66.88\n",
      "109.55\n",
      "36.77\n",
      "42.38\n",
      "91.96\n",
      "47.37\n",
      "27.75\n",
      "72.15\n"
     ]
    }
   ],
   "source": [
    "# Simulate the mass of a chicken egg\n",
    "# The random mass will be 70 +/- 20 grams\n",
    "\n",
    "import random\n",
    "\n",
    "for i in range(10):\n",
    "    mass = 70 + 22 * (random.uniform(-1, 1) * 2)\n",
    "    print(round(mass, 2))"
   ]
  },
  {
   "cell_type": "code",
   "execution_count": 31,
   "id": "a6175bcb-7fca-4ec9-b13a-89187e25f19b",
   "metadata": {},
   "outputs": [
    {
     "name": "stdout",
     "output_type": "stream",
     "text": [
      "77.74 Large\n",
      "39.93 Small\n",
      "105.43 Jumbo\n",
      "29.91 Small\n",
      "28.77 Small\n",
      "91.72 Jumbo\n",
      "74.98 Large\n",
      "36.73 Small\n",
      "27.88 Small\n",
      "96.58 Jumbo\n"
     ]
    }
   ],
   "source": [
    "# Add egg labels to each mass result\n",
    "\n",
    "import random\n",
    "\n",
    "for i in range(10):\n",
    "    mass = 70 + 22 * (random.uniform(-1, 1) * 2)\n",
    "    print(round(mass, 2), egg_label(mass))"
   ]
  },
  {
   "cell_type": "markdown",
   "id": "ed90ad95-44b1-4ebf-883c-e060caffb948",
   "metadata": {
    "tags": []
   },
   "source": [
    "## Variable Scope\n",
    "\n",
    "* The part of the program that a variable is visible is called its *scope*\n",
    "* **Global variable**\n",
    "  * Defined outside any function\n",
    "  * Visible everywhere\n",
    "* **Local variables**\n",
    "  * Defined within a function\n",
    "  * Not visible in the main program\n",
    "* **Function Parameter**\n",
    "  * Variable assigned a value when the function is called\n",
    "* If a variable with the same name exists inside and outside of a function, Python will treat them as two separate variables, one available in the global scope (outside the function) and one available in the local scope (inside the function)\n",
    "* Examples borrowed from [W3 School](https://www.w3schools.com/python/python_scope.asp)"
   ]
  },
  {
   "cell_type": "code",
   "execution_count": 32,
   "id": "2a620cd2-2ecd-433e-a160-9a24c58b0edc",
   "metadata": {},
   "outputs": [
    {
     "name": "stdout",
     "output_type": "stream",
     "text": [
      "100\n"
     ]
    }
   ],
   "source": [
    "# Local scope Example\n",
    "\n",
    "def myfunc():\n",
    "  hundreds = 100\n",
    "  print(hundreds)\n",
    "    \n",
    "myfunc()"
   ]
  },
  {
   "cell_type": "code",
   "execution_count": 33,
   "id": "db3e2a8c-8635-4aba-b4e5-85dfd7505372",
   "metadata": {},
   "outputs": [
    {
     "ename": "NameError",
     "evalue": "name 'hundreds' is not defined",
     "output_type": "error",
     "traceback": [
      "\u001b[0;31m---------------------------------------------------------------------------\u001b[0m",
      "\u001b[0;31mNameError\u001b[0m                                 Traceback (most recent call last)",
      "Input \u001b[0;32mIn [33]\u001b[0m, in \u001b[0;36m<module>\u001b[0;34m\u001b[0m\n\u001b[1;32m      1\u001b[0m \u001b[38;5;66;03m# Print local variable\u001b[39;00m\n\u001b[0;32m----> 2\u001b[0m \u001b[38;5;28mprint\u001b[39m(\u001b[43mhundreds\u001b[49m)\n",
      "\u001b[0;31mNameError\u001b[0m: name 'hundreds' is not defined"
     ]
    }
   ],
   "source": [
    "# Print local variable\n",
    "print(hundreds)"
   ]
  },
  {
   "cell_type": "code",
   "execution_count": 34,
   "id": "0e9f5568-772e-437f-8dd5-7816d7e2dd63",
   "metadata": {},
   "outputs": [
    {
     "name": "stdout",
     "output_type": "stream",
     "text": [
      "300\n"
     ]
    }
   ],
   "source": [
    "# Global scope example\n",
    "hundreds = 300\n",
    "\n",
    "def myfunc():\n",
    "  print(hundreds)\n",
    "\n",
    "myfunc()"
   ]
  },
  {
   "cell_type": "code",
   "execution_count": 35,
   "id": "e32527f9-6eb7-4350-ade6-2c59a09c6311",
   "metadata": {},
   "outputs": [
    {
     "name": "stdout",
     "output_type": "stream",
     "text": [
      "300\n"
     ]
    }
   ],
   "source": [
    "# Print global variable\n",
    "print(hundreds)"
   ]
  },
  {
   "cell_type": "code",
   "execution_count": 36,
   "id": "f98ca30a-bcc4-4011-a0d0-b3b39fa2d3a8",
   "metadata": {},
   "outputs": [
    {
     "name": "stdout",
     "output_type": "stream",
     "text": [
      "100\n",
      "300\n"
     ]
    }
   ],
   "source": [
    "# Printing variables\n",
    "# The function will print the local variable (inside the function)\n",
    "# The code will print the global variable (outside the function)\n",
    "\n",
    "hundreds = 300\n",
    "\n",
    "def myfunc():\n",
    "  hundreds = 100\n",
    "  print(hundreds)\n",
    "\n",
    "myfunc()\n",
    "\n",
    "print(hundreds)"
   ]
  },
  {
   "cell_type": "code",
   "execution_count": 37,
   "id": "757fb103-3bc9-4c04-9541-47ecf85a8bad",
   "metadata": {},
   "outputs": [
    {
     "name": "stdout",
     "output_type": "stream",
     "text": [
      "100\n",
      "100\n"
     ]
    }
   ],
   "source": [
    "# Change a global variable inside a function\n",
    "# Refer to a global variable by using the global keyword `global`\n",
    "\n",
    "hundreds = 300\n",
    "\n",
    "def myfunc():\n",
    "    global hundreds\n",
    "    hundreds = 100\n",
    "    print(hundreds)\n",
    "    \n",
    "myfunc()\n",
    "\n",
    "print(hundreds)"
   ]
  },
  {
   "cell_type": "markdown",
   "id": "cdf5e2f0-9604-4515-ae14-b2da569f84c8",
   "metadata": {},
   "source": [
    "## Programming Style\n",
    "\n",
    "### Coding style\n",
    "\n",
    "* A consistent coding style helps others, mostly our future selves, read and understand code more easily. \n",
    "* Code is read much more often than it is written, and as the *Zen of Python* states, “Readability counts”. \n",
    "* Python proposed a standard style through one of its first [**Python Enhancement Proposals**](https://peps.python.org/pep-0008/) (PEP), PEP8.\n",
    "\n",
    "### Some points worth highlighting:\n",
    "\n",
    "* Document your code and ensure that assumptions, internal algorithms, expected inputs, expected outputs, etc., are clear\n",
    "* Use clear, semantically meaningful variable names\n",
    "* Use white-space, not tabs, to indent lines (tabs can cause problems across different text editors, operating systems, and version control systems)\n",
    "* Follow standard Python style in your code.\n",
    "  * PEP8: a style guide for Python that discusses topics such as how to name variables, how to indent your code, how to structure your import statements, etc. Adhering to PEP8 makes it easier for other Python developers to read and understand your code, and to understand what their contributions should look like.\n",
    "  * To check your code for compliance with PEP8, you can use the pycodestyle application and tools like the black code formatter can automatically format your code to conform to PEP8 and pycodestyle (a Jupyter notebook formatter also exists nb_black).\n",
    "  * Some groups and organizations follow different style guidelines besides PEP8. For example, the Google style guide on Python makes slightly different recommendations. Google wrote an application that can help you format your code in either their style or PEP8 called yapf.\n",
    "  * With respect to coding style, the key is consistency. Choose a style do your best to ensure that you and anyone else you are collaborating with sticks to it. Consistency within a project is often more impactful than the particular style used. A consistent style will make your software easier to read and understand for others and for your future self."
   ]
  },
  {
   "cell_type": "markdown",
   "id": "cc000927-fd39-4727-aa4d-be1f19cd8288",
   "metadata": {
    "tags": []
   },
   "source": [
    "## Docstrings\n",
    "\n",
    "A docstring is a string used to document a Python module, class, function or method, so programmers can understand what it does without having to read the details of the implementation.\n",
    "\n",
    "* If the first thing in a function is a character string that is not assigned to a variable, Python attaches it to the function.\n",
    "* Use multiline strings for documentation -- these start and end with three quote characters (either single or double) and end with three matching characters.\n",
    "* The docstring is accessible via the built-in `help` function.\n",
    "\n"
   ]
  },
  {
   "cell_type": "code",
   "execution_count": 38,
   "id": "99febe6b-c92f-448e-8268-ada0e5a0d9ad",
   "metadata": {},
   "outputs": [],
   "source": [
    "def average(values):\n",
    "    'Return average of values, or None if no values are supplied.'\n",
    "    \n",
    "    if len(values) == 0:\n",
    "        return None\n",
    "    return sum(values) / len(values)"
   ]
  },
  {
   "cell_type": "code",
   "execution_count": 39,
   "id": "61af4aab-5faa-4435-a7f6-8b63ed7159f0",
   "metadata": {},
   "outputs": [
    {
     "data": {
      "text/plain": [
       "31.5"
      ]
     },
     "execution_count": 39,
     "metadata": {},
     "output_type": "execute_result"
    }
   ],
   "source": [
    "vals = [1, 5, 20, 100]\n",
    "average(vals)"
   ]
  },
  {
   "cell_type": "code",
   "execution_count": 40,
   "id": "4d82f091-e262-4185-900d-bbae36d52226",
   "metadata": {},
   "outputs": [
    {
     "name": "stdout",
     "output_type": "stream",
     "text": [
      "Help on function average in module __main__:\n",
      "\n",
      "average(values)\n",
      "    Return average of values, or None if no values are supplied.\n",
      "\n"
     ]
    }
   ],
   "source": [
    "help(average)"
   ]
  },
  {
   "cell_type": "markdown",
   "id": "5161efa2-f982-479f-9ae1-68b4cf7c6f23",
   "metadata": {},
   "source": [
    "### General rules of writing a docstring\n",
    "\n",
    "More indepth docstrings can be written with the help from some guides like Pandas [Pandas Docstring Guide](https://pandas.pydata.org/docs/development/contributing_docstring.html).\n",
    "\n",
    "\n",
    "* Section 1: Short summary\n",
    "  * single sentence that expresses what the function does a in a concise way\n",
    "* Section 2: Extended summary\n",
    "  * Provides extra details\n",
    "* Section 3: Parameters\n",
    "  * Details of parameters\n",
    "* Section 4: Returns or yields\n",
    "  * The output or return value of the function\n",
    "* Section 5: See also\n",
    "  * States similar functions\n",
    "* Section 6: Notes\n",
    "  * Optional\n",
    "* Section 7: Examples\n",
    "  * Important section! Uses Python code correctly and can be copied and run by users.\n"
   ]
  },
  {
   "cell_type": "code",
   "execution_count": 21,
   "id": "37838293-88d6-47b1-9909-7f2aa6abf8b3",
   "metadata": {},
   "outputs": [],
   "source": [
    "# Example from Pandas doc\n",
    "\n",
    "def add(num1, num2):\n",
    "    \"\"\"\n",
    "    Add up two integer numbers.\n",
    "\n",
    "    This function simply wraps the ``+`` operator, and does not\n",
    "    do anything interesting, except for illustrating what\n",
    "    the docstring of a very simple function looks like.\n",
    "\n",
    "    Parameters\n",
    "    ----------\n",
    "    num1 : int\n",
    "        First number to add.\n",
    "    num2 : int\n",
    "        Second number to add.\n",
    "\n",
    "    Returns\n",
    "    -------\n",
    "    int\n",
    "        The sum of ``num1`` and ``num2``.\n",
    "\n",
    "    See Also\n",
    "    --------\n",
    "    subtract : Subtract one integer from another.\n",
    "\n",
    "    Examples\n",
    "    --------\n",
    "    >>> add(2, 2)\n",
    "    4\n",
    "    >>> add(25, 0)\n",
    "    25\n",
    "    >>> add(10, -10)\n",
    "    0\n",
    "    \"\"\"\n",
    "    return num1 + num2"
   ]
  },
  {
   "cell_type": "code",
   "execution_count": 22,
   "id": "f28fbcf8-0b49-4d7f-9da4-a969ec647f2e",
   "metadata": {},
   "outputs": [
    {
     "data": {
      "text/plain": [
       "15"
      ]
     },
     "execution_count": 22,
     "metadata": {},
     "output_type": "execute_result"
    }
   ],
   "source": [
    "add(5, 10)"
   ]
  },
  {
   "cell_type": "code",
   "execution_count": 23,
   "id": "e2254ae5-4f25-48dc-9d11-6a26db438d28",
   "metadata": {},
   "outputs": [
    {
     "name": "stdout",
     "output_type": "stream",
     "text": [
      "Help on function add in module __main__:\n",
      "\n",
      "add(num1, num2)\n",
      "    Add up two integer numbers.\n",
      "    \n",
      "    This function simply wraps the ``+`` operator, and does not\n",
      "    do anything interesting, except for illustrating what\n",
      "    the docstring of a very simple function looks like.\n",
      "    \n",
      "    Parameters\n",
      "    ----------\n",
      "    num1 : int\n",
      "        First number to add.\n",
      "    num2 : int\n",
      "        Second number to add.\n",
      "    \n",
      "    Returns\n",
      "    -------\n",
      "    int\n",
      "        The sum of ``num1`` and ``num2``.\n",
      "    \n",
      "    See Also\n",
      "    --------\n",
      "    subtract : Subtract one integer from another.\n",
      "    \n",
      "    Examples\n",
      "    --------\n",
      "    >>> add(2, 2)\n",
      "    4\n",
      "    >>> add(25, 0)\n",
      "    25\n",
      "    >>> add(10, -10)\n",
      "    0\n",
      "\n"
     ]
    }
   ],
   "source": [
    "help(add)"
   ]
  },
  {
   "cell_type": "markdown",
   "id": "ac56a65b-30e9-40b5-95cf-5185dc7cee3e",
   "metadata": {},
   "source": [
    "## Assertions\n",
    "\n",
    "* Can be used to check for internal errors\n",
    "* A simple but powerful way to check that the code is executing as you expect\n",
    "* Assertions should only be used for simple checks and never change the program\n",
    "  * For example, assertions should never be assigned\n",
    "* If the assertion is `FALSE`, the Python interpreter raises an `AssertionError` runtime exception.\n",
    "  * The source code for the part that failed will be displayed as an error message\n",
    "  * To ignore assertions, run the interpreter with the '-O' (capital O, optimize) switch\n",
    "* Learn more:\n",
    "  * [Geeks for Geeks article: Python | Assertion Error](https://www.geeksforgeeks.org/python-assertion-error)"
   ]
  },
  {
   "cell_type": "code",
   "execution_count": 24,
   "id": "ea15ca09-9947-483c-8f53-ef2343989742",
   "metadata": {},
   "outputs": [
    {
     "ename": "AssertionError",
     "evalue": "Invalid Operation: denominator must be a non-zero value!",
     "output_type": "error",
     "traceback": [
      "\u001b[0;31m---------------------------------------------------------------------------\u001b[0m",
      "\u001b[0;31mAssertionError\u001b[0m                            Traceback (most recent call last)",
      "Input \u001b[0;32mIn [24]\u001b[0m, in \u001b[0;36m<module>\u001b[0;34m\u001b[0m\n\u001b[1;32m      2\u001b[0m x \u001b[38;5;241m=\u001b[39m \u001b[38;5;241m1\u001b[39m\n\u001b[1;32m      3\u001b[0m y \u001b[38;5;241m=\u001b[39m \u001b[38;5;241m0\u001b[39m\n\u001b[0;32m----> 4\u001b[0m \u001b[38;5;28;01massert\u001b[39;00m y \u001b[38;5;241m!=\u001b[39m \u001b[38;5;241m0\u001b[39m, \u001b[38;5;124m\"\u001b[39m\u001b[38;5;124mInvalid Operation: denominator must be a non-zero value!\u001b[39m\u001b[38;5;124m\"\u001b[39m\n\u001b[1;32m      5\u001b[0m \u001b[38;5;28mprint\u001b[39m(x \u001b[38;5;241m/\u001b[39m y)\n",
      "\u001b[0;31mAssertionError\u001b[0m: Invalid Operation: denominator must be a non-zero value!"
     ]
    }
   ],
   "source": [
    "# AssertionError with error_message because denominator cannot be 0 (zero)\n",
    "x = 1\n",
    "y = 0\n",
    "assert y != 0, \"Invalid Operation: denominator must be a non-zero value!\"\n",
    "print(x / y)"
   ]
  },
  {
   "cell_type": "code",
   "execution_count": 25,
   "id": "9c553be9-40d0-4e1a-b73a-6a9a0ccbd351",
   "metadata": {},
   "outputs": [
    {
     "name": "stdout",
     "output_type": "stream",
     "text": [
      "0.5\n"
     ]
    }
   ],
   "source": [
    "# AssertionError without error_message.\n",
    "x = 1\n",
    "y = 2\n",
    "assert y != 0, \"Invalid Operation: denominator must be a non-zero value!\" \n",
    "print(x / y)"
   ]
  },
  {
   "cell_type": "code",
   "execution_count": null,
   "id": "3a7de124-d8e6-4f94-9c9a-60f3cc883dc3",
   "metadata": {},
   "outputs": [],
   "source": []
  },
  {
   "cell_type": "code",
   "execution_count": null,
   "id": "f83796e7-6ea1-40ca-bb82-268bd494306c",
   "metadata": {},
   "outputs": [],
   "source": []
  }
 ],
 "metadata": {
  "kernelspec": {
   "display_name": "Python 3 (ipykernel)",
   "language": "python",
   "name": "python3"
  },
  "language_info": {
   "codemirror_mode": {
    "name": "ipython",
    "version": 3
   },
   "file_extension": ".py",
   "mimetype": "text/x-python",
   "name": "python",
   "nbconvert_exporter": "python",
   "pygments_lexer": "ipython3",
   "version": "3.10.1"
  }
 },
 "nbformat": 4,
 "nbformat_minor": 5
}
