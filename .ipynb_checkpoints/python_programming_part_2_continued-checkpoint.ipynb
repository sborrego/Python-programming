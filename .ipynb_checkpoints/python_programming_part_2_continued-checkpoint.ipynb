{
 "cells": [
  {
   "cell_type": "markdown",
   "id": "1b7e84b4-cb48-4d02-acc0-b3f797d9d5d1",
   "metadata": {},
   "source": [
    "## Writing Functions\n",
    "\n",
    "* We have used built-in functions by Python, but what if you need something more specific to your work?\n",
    "* It is recommended to make a function of any piece of code that you use more than twice."
   ]
  },
  {
   "cell_type": "markdown",
   "id": "c531a9b0-e188-428e-b5bb-ecaeedec9d16",
   "metadata": {},
   "source": [
    "## How do I write my own function?\n",
    "\n",
    "* Begin the definition of the new function with `def`\n",
    "* Follow with the name of the function\n",
    "* Write parameters in parentheses\n",
    "  * Empty parenthesis indicate that the function doesn't take any inputs\n",
    "* Then a colon\n",
    "* Then an indented block of code"
   ]
  },
  {
   "cell_type": "code",
   "execution_count": 4,
   "id": "2e26e0ed-52a0-48d2-9fd2-0ce9d7b3e553",
   "metadata": {},
   "outputs": [],
   "source": [
    "# Write your first function!\n",
    "def print_greeting():\n",
    "    print('Hello!')\n",
    "    \n"
   ]
  },
  {
   "cell_type": "markdown",
   "id": "2119eace-58fa-4bf1-8b47-b423fd7507a0",
   "metadata": {},
   "source": [
    "Note: Defining a function does not run it - just like assigning a variable. Call the function\n",
    "just as you would any built-in Python function"
   ]
  },
  {
   "cell_type": "code",
   "execution_count": 5,
   "id": "b550beee-1dd0-44b6-b911-ebb8988aede2",
   "metadata": {},
   "outputs": [
    {
     "name": "stdout",
     "output_type": "stream",
     "text": [
      "Hello!\n"
     ]
    }
   ],
   "source": [
    "print_greeting()"
   ]
  },
  {
   "cell_type": "markdown",
   "id": "405edbd6-0619-4e69-b628-71ed8c015cdf",
   "metadata": {},
   "source": [
    "## Adding parameters to my functions\n",
    "\n",
    "* Functions are most useful when they can operate on different data.\n",
    "* How to specify parameters:\n",
    "    * Assign the arguments in the call (provide names of expected variables in the \n",
    "                                        parenthesis after the parenthesis)"
   ]
  },
  {
   "cell_type": "code",
   "execution_count": 12,
   "id": "9999fe32-4bc7-4beb-abc4-cd9b772c9149",
   "metadata": {},
   "outputs": [],
   "source": [
    "# Write a function with parameters\n",
    "def print_date(year, month, day):\n",
    "    joined = str(year) + '/' + str(month) + '/' + str(day)\n",
    "    print(joined)"
   ]
  },
  {
   "cell_type": "code",
   "execution_count": 13,
   "id": "368c972a-044c-4a60-a83d-085f5b50a959",
   "metadata": {},
   "outputs": [
    {
     "name": "stdout",
     "output_type": "stream",
     "text": [
      "2022/6/1\n"
     ]
    }
   ],
   "source": [
    "# Call function providing parameters unnamed and in order\n",
    "print_date(2022, 6, 1)"
   ]
  },
  {
   "cell_type": "code",
   "execution_count": 15,
   "id": "3fdb85db-34c6-4075-a5ea-3afa6d9d3c7a",
   "metadata": {},
   "outputs": [
    {
     "name": "stdout",
     "output_type": "stream",
     "text": [
      "1700/12/5\n"
     ]
    }
   ],
   "source": [
    "# Call function providing parameters with name\n",
    "# Naming parameters/arguments allows them to be in any order\n",
    "print_date(day=5, year=1700, month=12)"
   ]
  },
  {
   "cell_type": "markdown",
   "id": "c5df8a11-cf28-4271-96ac-0983efe0da37",
   "metadata": {},
   "source": [
    "## Return a result in your function\n",
    "\n",
    "* Use `return` to give a value back to the caller\n",
    "* Functions are easiest to understand when `return` occurs\n",
    "  * At the start of a function to handle special cases\n",
    "  * At the end with a final result\n",
    "* Note: every function returns something\n",
    "  * If a function does not explicitly return a value, it returns `None`"
   ]
  },
  {
   "cell_type": "code",
   "execution_count": 21,
   "id": "b7e7d8f9-65bb-4fff-b230-a231093c2b6b",
   "metadata": {},
   "outputs": [],
   "source": [
    "# Write a function that takes the average of a list of numbers\n",
    "def average(values):\n",
    "    if len(values) == 0:\n",
    "        return None\n",
    "    ave = sum(values) / len(values)\n",
    "    return 'The average is: ' + str(ave)"
   ]
  },
  {
   "cell_type": "code",
   "execution_count": 31,
   "id": "79eec3d0-3f6a-40d4-9bdf-2df45774f8f9",
   "metadata": {},
   "outputs": [
    {
     "name": "stdout",
     "output_type": "stream",
     "text": [
      "The average is: 202.0\n"
     ]
    }
   ],
   "source": [
    "print(average([12, 34, 560]))"
   ]
  },
  {
   "cell_type": "code",
   "execution_count": 32,
   "id": "2e4c32d5-5e6a-46af-bea0-55231dd5acb5",
   "metadata": {},
   "outputs": [
    {
     "name": "stdout",
     "output_type": "stream",
     "text": [
      "None\n"
     ]
    }
   ],
   "source": [
    "print(average([]))"
   ]
  },
  {
   "cell_type": "code",
   "execution_count": 37,
   "id": "1429f537-ba3c-4989-a07d-8bcf88b31be1",
   "metadata": {},
   "outputs": [
    {
     "name": "stdout",
     "output_type": "stream",
     "text": [
      "The average is: 4.666666666666667\n",
      "RESULTS ARE IN:  The average is: 4.666666666666667\n"
     ]
    }
   ],
   "source": [
    "# Print a function that explicitly returns a value\n",
    "a = average([1, 5, 8])\n",
    "print(a)\n",
    "print(\"RESULTS ARE IN: \", a)"
   ]
  },
  {
   "cell_type": "code",
   "execution_count": 36,
   "id": "cd63a023-ea6c-469f-a3fa-cef5a83c4af6",
   "metadata": {},
   "outputs": [
    {
     "name": "stdout",
     "output_type": "stream",
     "text": [
      "1/5/12\n",
      "None\n",
      "RESULTS ARE IN:  None\n"
     ]
    }
   ],
   "source": [
    "# Print a function that does not explicitly return a value\n",
    "# Returned value is `None`\n",
    "b = print_date(1, 5, 12)\n",
    "print(b)\n",
    "print(\"RESULTS ARE IN: \", b)"
   ]
  },
  {
   "cell_type": "markdown",
   "id": "e1198fc0-2f03-432a-ab8a-509460fc2395",
   "metadata": {},
   "source": [
    "## Egg label exercise\n",
    "\n",
    "* Pretend the code below will run an egg label printer for chicken eggs.\n",
    "* A digital scale will report a chicken egg mass (in grams) to the computer and then the computer will print a label\n",
    "* General egg info\n",
    "  * Dirty egg: >= 90 grams\n",
    "  * Spoiled or broken egg: < 50 grams\n",
    "  * Jumbo: >= 85 grams\n",
    "  * Large: >= 70 grams\n",
    "  * Medium: < 70 grams, >= 50 grams\n",
    "  * Small: < 50"
   ]
  },
  {
   "cell_type": "code",
   "execution_count": 40,
   "id": "a1327e97-10cd-4ce6-a067-74d3623099a8",
   "metadata": {},
   "outputs": [],
   "source": [
    "# Write basic egg label making function\n",
    "def get_egg_label(mass):\n",
    "    egg_label = 'Unlabelled'\n",
    "    return egg_label"
   ]
  },
  {
   "cell_type": "code",
   "execution_count": 41,
   "id": "2d6f89d8-9745-49d2-862c-cd6773c5cd5d",
   "metadata": {},
   "outputs": [
    {
     "data": {
      "text/plain": [
       "'Unlabelled'"
      ]
     },
     "execution_count": 41,
     "metadata": {},
     "output_type": "execute_result"
    }
   ],
   "source": [
    "get_egg_label(2)"
   ]
  },
  {
   "cell_type": "code",
   "execution_count": 42,
   "id": "71d87001-e24f-4727-8ebf-e3ee323d3a50",
   "metadata": {},
   "outputs": [],
   "source": [
    "# Write basic egg label making function\n",
    "def get_egg_label(mass):\n",
    "    egg_label = 'Unlabelled'\n",
    "    if mass >= 85:\n",
    "        egg_label = 'Jumbo'\n",
    "    elif mass >= 70:\n",
    "        egg_label = 'Large'\n",
    "    elif mass < 70 and mass >= 50:\n",
    "        egg_label = 'Medium'\n",
    "    else:\n",
    "        egg_label = 'Small'\n",
    "    return egg_label"
   ]
  },
  {
   "cell_type": "code",
   "execution_count": 43,
   "id": "10bf4aaa-494e-48f6-8060-328ed0d321fa",
   "metadata": {},
   "outputs": [
    {
     "data": {
      "text/plain": [
       "'Medium'"
      ]
     },
     "execution_count": 43,
     "metadata": {},
     "output_type": "execute_result"
    }
   ],
   "source": [
    "get_egg_label(66)"
   ]
  },
  {
   "cell_type": "code",
   "execution_count": 47,
   "id": "b5e95529-4c3e-41e1-aa70-ed989d23c653",
   "metadata": {},
   "outputs": [
    {
     "name": "stdout",
     "output_type": "stream",
     "text": [
      "88.16524053000747\n",
      "81.88258465177248\n",
      "69.12234686982356\n",
      "83.29376266839552\n",
      "67.93986463403185\n",
      "76.66004235128013\n",
      "53.756485001460454\n",
      "80.14907464390915\n",
      "63.27408556416123\n",
      "69.9915765197288\n"
     ]
    }
   ],
   "source": [
    "# Simulate the mass of a chicken egg\n",
    "# The random mass will be 70 +/- 20 grams\n",
    "\n",
    "import random\n",
    "\n",
    "for i in range(10):\n",
    "    mass = 70 + 20 * (2.0 * random.random() - 1)\n",
    "    print(mass)"
   ]
  },
  {
   "cell_type": "code",
   "execution_count": 48,
   "id": "a6175bcb-7fca-4ec9-b13a-89187e25f19b",
   "metadata": {},
   "outputs": [
    {
     "name": "stdout",
     "output_type": "stream",
     "text": [
      "59.88168765090546 Medium\n",
      "52.29046712139316 Medium\n",
      "78.69894324982347 Large\n",
      "55.06869614288474 Medium\n",
      "83.34709448894014 Large\n",
      "71.73474100116968 Large\n",
      "70.41023072345638 Large\n",
      "69.78227442309786 Medium\n",
      "87.32985531240625 Jumbo\n",
      "79.18596405589915 Large\n"
     ]
    }
   ],
   "source": [
    "# Add egg labels to each mass result\n",
    "\n",
    "import random\n",
    "\n",
    "for i in range(10):\n",
    "    mass = 70 + 20 * (2.0 * random.random() - 1)\n",
    "    print(mass, get_egg_label(mass))"
   ]
  },
  {
   "cell_type": "markdown",
   "id": "ed90ad95-44b1-4ebf-883c-e060caffb948",
   "metadata": {
    "tags": []
   },
   "source": [
    "## Variable Scope\n",
    "\n",
    "* The part of the program that a variable is visible is called its *scope*\n",
    "* Global variable\n",
    "  * Defined outside any function\n",
    "  * Visible everywhere\n",
    "* Local variables\n",
    "  * Defined within a function\n",
    "  * Not visible in the main program\n",
    "* Function Parameter\n",
    "  * Variable assigned a value when the function is called"
   ]
  },
  {
   "cell_type": "code",
   "execution_count": 50,
   "id": "2a620cd2-2ecd-433e-a160-9a24c58b0edc",
   "metadata": {},
   "outputs": [],
   "source": [
    "# Scope Example\n",
    "pressure = 103\n",
    "\n",
    "def adjust(t):\n",
    "    temp = t * 1.43 / pressure\n",
    "    return temp"
   ]
  },
  {
   "cell_type": "code",
   "execution_count": 55,
   "id": "db3e2a8c-8635-4aba-b4e5-85dfd7505372",
   "metadata": {},
   "outputs": [
    {
     "name": "stdout",
     "output_type": "stream",
     "text": [
      "0.012495145631067961\n"
     ]
    }
   ],
   "source": [
    "print(adjust(0.9))"
   ]
  },
  {
   "cell_type": "code",
   "execution_count": 53,
   "id": "0e9f5568-772e-437f-8dd5-7816d7e2dd63",
   "metadata": {},
   "outputs": [
    {
     "name": "stdout",
     "output_type": "stream",
     "text": [
      "103\n"
     ]
    }
   ],
   "source": [
    "# Global variable\n",
    "print(pressure)"
   ]
  },
  {
   "cell_type": "code",
   "execution_count": null,
   "id": "e32527f9-6eb7-4350-ade6-2c59a09c6311",
   "metadata": {},
   "outputs": [],
   "source": [
    "# Function parameter\n",
    "print(t)"
   ]
  },
  {
   "cell_type": "code",
   "execution_count": 54,
   "id": "f98ca30a-bcc4-4011-a0d0-b3b39fa2d3a8",
   "metadata": {},
   "outputs": [
    {
     "ename": "NameError",
     "evalue": "name 'temp' is not defined",
     "output_type": "error",
     "traceback": [
      "\u001b[0;31m---------------------------------------------------------------------------\u001b[0m",
      "\u001b[0;31mNameError\u001b[0m                                 Traceback (most recent call last)",
      "Input \u001b[0;32mIn [54]\u001b[0m, in \u001b[0;36m<module>\u001b[0;34m\u001b[0m\n\u001b[0;32m----> 1\u001b[0m \u001b[38;5;28mprint\u001b[39m(\u001b[43mtemp\u001b[49m)\n",
      "\u001b[0;31mNameError\u001b[0m: name 'temp' is not defined"
     ]
    }
   ],
   "source": [
    "# Local variable\n",
    "print(temp)"
   ]
  },
  {
   "cell_type": "markdown",
   "id": "cdf5e2f0-9604-4515-ae14-b2da569f84c8",
   "metadata": {},
   "source": [
    "## Programming Style\n",
    "\n"
   ]
  }
 ],
 "metadata": {
  "kernelspec": {
   "display_name": "Python 3 (ipykernel)",
   "language": "python",
   "name": "python3"
  },
  "language_info": {
   "codemirror_mode": {
    "name": "ipython",
    "version": 3
   },
   "file_extension": ".py",
   "mimetype": "text/x-python",
   "name": "python",
   "nbconvert_exporter": "python",
   "pygments_lexer": "ipython3",
   "version": "3.10.1"
  }
 },
 "nbformat": 4,
 "nbformat_minor": 5
}
