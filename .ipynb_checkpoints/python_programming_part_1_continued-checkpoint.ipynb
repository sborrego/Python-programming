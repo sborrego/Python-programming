{
 "cells": [
  {
   "cell_type": "markdown",
   "id": "42f8a944-fb7a-4efc-a56b-a34c4fc86856",
   "metadata": {},
   "source": [
    "This document will cover sections 6 - 9 of the \"Plotting and Programming in Python\" workshop material. \n",
    "\n",
    "Here we will learn about libraries, reading tablular data into Dataframes, Pandas Dataframes, and plotting."
   ]
  },
  {
   "cell_type": "markdown",
   "id": "ae6f6f21-2e31-4b10-8de7-6e243a59c659",
   "metadata": {},
   "source": [
    "### An overview of libraries:\n",
    "\n",
    "    - A library is a collection of files (modules) that contain functions for use by other programs\n",
    "        - Generally related functions\n",
    "        - May contain other things like data values\n",
    "        - Also referred to as packages\n",
    "    - Python contains an extensive standard library\n",
    "    - Additional libraries can be found in the Python Package Index (PyPI)\n",
    "    \n",
    "    - To use a library, it must be imported into Python using the command `import`\n",
    "        - `import numpy`\n",
    "        - `numpy.array([1, 2, 3])\n",
    "    - Make a nickname for the imported package\n",
    "        - `import numpy as np`\n",
    "        - `np. array([1, 2, 3])\n",
    "    "
   ]
  },
  {
   "cell_type": "code",
   "execution_count": null,
   "id": "b094eac0-74cd-4f8e-9e5c-b8e03dabec53",
   "metadata": {},
   "outputs": [],
   "source": []
  }
 ],
 "metadata": {
  "kernelspec": {
   "display_name": "Python 3 (ipykernel)",
   "language": "python",
   "name": "python3"
  },
  "language_info": {
   "codemirror_mode": {
    "name": "ipython",
    "version": 3
   },
   "file_extension": ".py",
   "mimetype": "text/x-python",
   "name": "python",
   "nbconvert_exporter": "python",
   "pygments_lexer": "ipython3",
   "version": "3.10.1"
  }
 },
 "nbformat": 4,
 "nbformat_minor": 5
}
