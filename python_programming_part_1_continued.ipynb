{
 "cells": [
  {
   "cell_type": "markdown",
   "id": "42f8a944-fb7a-4efc-a56b-a34c4fc86856",
   "metadata": {},
   "source": [
    "This document will cover sections 6 - 9 of the \"Plotting and Programming in Python\" workshop material. \n",
    "\n",
    "Here we will learn about libraries, reading tablular data into Dataframes with Pandas, and plotting.\n",
    "\n",
    "Access the data by downloading the gapminder dataset from\n",
    "  * swcarpentry.github.io/python-novice-gapminder/setup.html\n",
    "  * Place on your desktop for easy access\n",
    "  * Path: ~/Desktop/data/"
   ]
  },
  {
   "cell_type": "markdown",
   "id": "ae6f6f21-2e31-4b10-8de7-6e243a59c659",
   "metadata": {},
   "source": [
    "### An Overview of Python Libraries\n",
    "\n",
    "* A library is a collection of files (modules) that contain functions for use by other programs\n",
    "  * Generally related functions\n",
    "  * May contain other things like data values\n",
    "  * Also referred to as packages\n",
    "* Python contains an extensive standard library\n",
    "* Additional libraries can be found in the Python Package Index (PyPI)\n",
    "\n",
    "\n",
    "* To use a library, it must be imported into Python\n",
    "  * `import numpy`\n",
    "      * `numpy.array([1, 2, 3])`\n",
    "* Make a nickname for the imported package\n",
    "  * `import numpy as np`\n",
    "    * `np. array([1, 2, 3])\n",
    "  "
   ]
  },
  {
   "cell_type": "code",
   "execution_count": 1,
   "id": "b094eac0-74cd-4f8e-9e5c-b8e03dabec53",
   "metadata": {},
   "outputs": [
    {
     "ename": "NameError",
     "evalue": "name 'pi' is not defined",
     "output_type": "error",
     "traceback": [
      "\u001b[0;31m---------------------------------------------------------------------------\u001b[0m",
      "\u001b[0;31mNameError\u001b[0m                                 Traceback (most recent call last)",
      "Input \u001b[0;32mIn [1]\u001b[0m, in \u001b[0;36m<module>\u001b[0;34m\u001b[0m\n\u001b[1;32m      1\u001b[0m \u001b[38;5;66;03m# `pi` is s a function that provides the number pi\u001b[39;00m\n\u001b[1;32m      2\u001b[0m \u001b[38;5;66;03m# If you type the function `pi` without importing the \"math\" library, \u001b[39;00m\n\u001b[1;32m      3\u001b[0m \u001b[38;5;66;03m# you will get an error\u001b[39;00m\n\u001b[0;32m----> 4\u001b[0m \u001b[43mpi\u001b[49m\n",
      "\u001b[0;31mNameError\u001b[0m: name 'pi' is not defined"
     ]
    }
   ],
   "source": [
    "# `pi` is s a function that provides the number pi\n",
    "# If you type the function `pi` without importing the \"math\" library, \n",
    "# you will get an error\n",
    "pi"
   ]
  },
  {
   "cell_type": "code",
   "execution_count": 2,
   "id": "4b046e26-ec87-420c-96ed-96633ff5ddd7",
   "metadata": {},
   "outputs": [],
   "source": [
    "# Import the \"math\" package to use the function `pi`\n",
    "import math"
   ]
  },
  {
   "cell_type": "code",
   "execution_count": 3,
   "id": "31f9552d-31fd-416d-9f81-aa995ab60fc7",
   "metadata": {},
   "outputs": [
    {
     "name": "stdout",
     "output_type": "stream",
     "text": [
      "3.141592653589793\n"
     ]
    }
   ],
   "source": [
    "# Call a function from an imported library using dot (.) notation\n",
    "# libary_name.function\n",
    "print(math.pi)"
   ]
  },
  {
   "cell_type": "code",
   "execution_count": 4,
   "id": "746f726e-1e3e-44f3-8c5a-b39d18f4e0f2",
   "metadata": {},
   "outputs": [],
   "source": [
    "# Learn more about a library by using the function `help`\n",
    "# help(math)"
   ]
  },
  {
   "cell_type": "code",
   "execution_count": 5,
   "id": "2b02eac2-7512-4274-8533-23c22f84ac5b",
   "metadata": {},
   "outputs": [
    {
     "name": "stdout",
     "output_type": "stream",
     "text": [
      "3.141592653589793\n",
      "-1.0\n",
      "cos(pi) is -1.0\n"
     ]
    }
   ],
   "source": [
    "# Import specific functions from a library, not the entire library\n",
    "# These no longer require that you reference the library and can be called by \n",
    "# only their name\n",
    "from math import pi, cos\n",
    "print(pi)\n",
    "print(cos(pi))\n",
    "print(\"cos(pi) is\", cos(pi))"
   ]
  },
  {
   "cell_type": "code",
   "execution_count": 6,
   "id": "3cace2b6-8933-44ac-8df1-47bd7ecd344c",
   "metadata": {},
   "outputs": [
    {
     "name": "stdout",
     "output_type": "stream",
     "text": [
      "3.141592653589793\n"
     ]
    }
   ],
   "source": [
    "# Make a nickname for an imported library\n",
    "import math as m\n",
    "print(m.pi)"
   ]
  },
  {
   "cell_type": "markdown",
   "id": "e0a2da24-ca3b-41bd-a181-38a8c37092fa",
   "metadata": {},
   "source": [
    "## Exploring a new library\n",
    "\n",
    "To excercise our mind and fingers, let's use the library `random` to print a random character from a string."
   ]
  },
  {
   "cell_type": "code",
   "execution_count": 7,
   "id": "e0ea7996-5d9c-40c5-83d2-67a35c37c7f9",
   "metadata": {},
   "outputs": [
    {
     "name": "stdout",
     "output_type": "stream",
     "text": [
      "6\n",
      "5\n",
      "Y\n"
     ]
    }
   ],
   "source": [
    "import random\n",
    "\n",
    "# Write a string\n",
    "string = 'STACEY'\n",
    "\n",
    "# Check the length of characters in your string\n",
    "print(len(string))\n",
    "\n",
    "# Save the random index determined for the length of characters in your string\n",
    "random_index = random.randrange(len(string))\n",
    "print(random_index)\n",
    "                                \n",
    "# Pring the character in the randomly selected index\n",
    "print(string[random_index])"
   ]
  },
  {
   "cell_type": "code",
   "execution_count": 8,
   "id": "64f619e6-5b30-43f9-8ce6-87318587f2cd",
   "metadata": {},
   "outputs": [
    {
     "name": "stdout",
     "output_type": "stream",
     "text": [
      "E\n"
     ]
    }
   ],
   "source": [
    "# Use `random.choice` to select a random index from your string\n",
    "import random\n",
    "\n",
    "print(random.choice(string))"
   ]
  },
  {
   "cell_type": "markdown",
   "id": "8e2d7973-54ae-4f44-bb80-cc8a79a57ce5",
   "metadata": {},
   "source": [
    "## Reading Tabular Data into Dataframes using Pandas\n",
    "\n",
    "* Pandas is a Python library for statistics and tabular data\n",
    "* Similar to dataframes in R\n",
    "  * 2-dimensional\n",
    "  * Columns have names of the observed variables\n",
    "  * Rows contain the observation values\n",
    "  * Able to contain different data types\n",
    "* A dataframe is a collection of series\n",
    "  * A dataframe is a table\n",
    "  * A series is the data-structure Pandas uses to represent a column\n",
    "* Pandas is built on the Numpy library\n",
    "  * Most methods in Numpy apply to dataframes/series in Pandas\n",
    "* Common nickname/alias for Pandas is `pd`\n"
   ]
  },
  {
   "cell_type": "code",
   "execution_count": 9,
   "id": "0bf23587-a835-4d49-abf5-67927a5d6108",
   "metadata": {},
   "outputs": [
    {
     "name": "stdout",
     "output_type": "stream",
     "text": [
      "       country  gdpPercap_1952  gdpPercap_1957  gdpPercap_1962  \\\n",
      "0    Australia     10039.59564     10949.64959     12217.22686   \n",
      "1  New Zealand     10556.57566     12247.39532     13175.67800   \n",
      "\n",
      "   gdpPercap_1967  gdpPercap_1972  gdpPercap_1977  gdpPercap_1982  \\\n",
      "0     14526.12465     16788.62948     18334.19751     19477.00928   \n",
      "1     14463.91893     16046.03728     16233.71770     17632.41040   \n",
      "\n",
      "   gdpPercap_1987  gdpPercap_1992  gdpPercap_1997  gdpPercap_2002  \\\n",
      "0     21888.88903     23424.76683     26997.93657     30687.75473   \n",
      "1     19007.19129     18363.32494     21050.41377     23189.80135   \n",
      "\n",
      "   gdpPercap_2007  \n",
      "0     34435.36744  \n",
      "1     25185.00911  \n"
     ]
    }
   ],
   "source": [
    "# Import Pandas using the alias `pd`\n",
    "import pandas as pd\n",
    "\n",
    "# Use `pd.read_csv()` to read a comma separated values (csv) data table\n",
    "data = pd.read_csv('~/Desktop/data/gapminder_gdp_oceania.csv')\n",
    "print(data)\n",
    "\n",
    "# Pandas uses `\\` when the output is too wide to fit the screen"
   ]
  },
  {
   "cell_type": "code",
   "execution_count": 10,
   "id": "272581bb-013c-46a2-9e6a-71ea84e1c252",
   "metadata": {},
   "outputs": [
    {
     "name": "stdout",
     "output_type": "stream",
     "text": [
      "             gdpPercap_1952  gdpPercap_1957  gdpPercap_1962  gdpPercap_1967  \\\n",
      "country                                                                       \n",
      "Australia       10039.59564     10949.64959     12217.22686     14526.12465   \n",
      "New Zealand     10556.57566     12247.39532     13175.67800     14463.91893   \n",
      "\n",
      "             gdpPercap_1972  gdpPercap_1977  gdpPercap_1982  gdpPercap_1987  \\\n",
      "country                                                                       \n",
      "Australia       16788.62948     18334.19751     19477.00928     21888.88903   \n",
      "New Zealand     16046.03728     16233.71770     17632.41040     19007.19129   \n",
      "\n",
      "             gdpPercap_1992  gdpPercap_1997  gdpPercap_2002  gdpPercap_2007  \n",
      "country                                                                      \n",
      "Australia       23424.76683     26997.93657     30687.75473     34435.36744  \n",
      "New Zealand     18363.32494     21050.41377     23189.80135     25185.00911  \n"
     ]
    }
   ],
   "source": [
    "# Current row names are 0 and 1\n",
    "# Change the row names to the column `country`\n",
    "\n",
    "data = pd.read_csv('~/Desktop/data/gapminder_gdp_oceania.csv', index_col = 'country')\n",
    "print(data)"
   ]
  },
  {
   "cell_type": "code",
   "execution_count": 11,
   "id": "631ac664-be0d-4133-a1cc-537e478edd0a",
   "metadata": {},
   "outputs": [
    {
     "name": "stdout",
     "output_type": "stream",
     "text": [
      "<class 'pandas.core.frame.DataFrame'>\n",
      "Index: 2 entries, Australia to New Zealand\n",
      "Data columns (total 12 columns):\n",
      " #   Column          Non-Null Count  Dtype  \n",
      "---  ------          --------------  -----  \n",
      " 0   gdpPercap_1952  2 non-null      float64\n",
      " 1   gdpPercap_1957  2 non-null      float64\n",
      " 2   gdpPercap_1962  2 non-null      float64\n",
      " 3   gdpPercap_1967  2 non-null      float64\n",
      " 4   gdpPercap_1972  2 non-null      float64\n",
      " 5   gdpPercap_1977  2 non-null      float64\n",
      " 6   gdpPercap_1982  2 non-null      float64\n",
      " 7   gdpPercap_1987  2 non-null      float64\n",
      " 8   gdpPercap_1992  2 non-null      float64\n",
      " 9   gdpPercap_1997  2 non-null      float64\n",
      " 10  gdpPercap_2002  2 non-null      float64\n",
      " 11  gdpPercap_2007  2 non-null      float64\n",
      "dtypes: float64(12)\n",
      "memory usage: 208.0+ bytes\n"
     ]
    }
   ],
   "source": [
    "# find out more information about the dataframe\n",
    "data.info()"
   ]
  },
  {
   "cell_type": "code",
   "execution_count": 12,
   "id": "22794b96-7886-4929-ab79-5cf7468e1a3b",
   "metadata": {},
   "outputs": [
    {
     "name": "stdout",
     "output_type": "stream",
     "text": [
      "Index(['gdpPercap_1952', 'gdpPercap_1957', 'gdpPercap_1962', 'gdpPercap_1967',\n",
      "       'gdpPercap_1972', 'gdpPercap_1977', 'gdpPercap_1982', 'gdpPercap_1987',\n",
      "       'gdpPercap_1992', 'gdpPercap_1997', 'gdpPercap_2002', 'gdpPercap_2007'],\n",
      "      dtype='object')\n",
      "country           Australia  New Zealand\n",
      "gdpPercap_1952  10039.59564  10556.57566\n",
      "gdpPercap_1957  10949.64959  12247.39532\n",
      "gdpPercap_1962  12217.22686  13175.67800\n",
      "gdpPercap_1967  14526.12465  14463.91893\n",
      "gdpPercap_1972  16788.62948  16046.03728\n",
      "gdpPercap_1977  18334.19751  16233.71770\n",
      "gdpPercap_1982  19477.00928  17632.41040\n",
      "gdpPercap_1987  21888.88903  19007.19129\n",
      "gdpPercap_1992  23424.76683  18363.32494\n",
      "gdpPercap_1997  26997.93657  21050.41377\n",
      "gdpPercap_2002  30687.75473  23189.80135\n",
      "gdpPercap_2007  34435.36744  25185.00911\n"
     ]
    }
   ],
   "source": [
    "# We can explore and modify the data using member variables (do not require `()`)\n",
    "\n",
    "# Get column names\n",
    "print(data.columns)\n",
    "\n",
    "# Transpose a dataframe\n",
    "print(data.T)"
   ]
  },
  {
   "cell_type": "code",
   "execution_count": 13,
   "id": "34979a0a-cb27-4e69-90ec-c38a994c93db",
   "metadata": {},
   "outputs": [
    {
     "name": "stdout",
     "output_type": "stream",
     "text": [
      "(25, 13)\n"
     ]
    }
   ],
   "source": [
    "# Import new dataset from the same directory and \n",
    "# label the rows with the column `country`\n",
    "\n",
    "americas = pd.read_csv('~/Desktop/data/gapminder_gdp_americas.csv', \n",
    "                       index_col = 'country')\n",
    "\n",
    "# Print out the dimensions of the dataframe\n",
    "# 25 rows, 13 columns\n",
    "print(americas.shape)"
   ]
  },
  {
   "cell_type": "code",
   "execution_count": 14,
   "id": "3e2addf0-0862-453c-841a-26b2ab04a5d7",
   "metadata": {},
   "outputs": [
    {
     "name": "stdout",
     "output_type": "stream",
     "text": [
      "          continent  gdpPercap_1952  gdpPercap_1957  gdpPercap_1962  \\\n",
      "country                                                               \n",
      "Argentina  Americas     5911.315053     6856.856212     7133.166023   \n",
      "Bolivia    Americas     2677.326347     2127.686326     2180.972546   \n",
      "Brazil     Americas     2108.944355     2487.365989     3336.585802   \n",
      "\n",
      "           gdpPercap_1967  gdpPercap_1972  gdpPercap_1977  gdpPercap_1982  \\\n",
      "country                                                                     \n",
      "Argentina     8052.953021     9443.038526    10079.026740     8997.897412   \n",
      "Bolivia       2586.886053     2980.331339     3548.097832     3156.510452   \n",
      "Brazil        3429.864357     4985.711467     6660.118654     7030.835878   \n",
      "\n",
      "           gdpPercap_1987  gdpPercap_1992  gdpPercap_1997  gdpPercap_2002  \\\n",
      "country                                                                     \n",
      "Argentina     9139.671389     9308.418710    10967.281950     8797.640716   \n",
      "Bolivia       2753.691490     2961.699694     3326.143191     3413.262690   \n",
      "Brazil        7807.095818     6950.283021     7957.980824     8131.212843   \n",
      "\n",
      "           gdpPercap_2007  \n",
      "country                    \n",
      "Argentina    12779.379640  \n",
      "Bolivia       3822.137084  \n",
      "Brazil        9065.800825  \n"
     ]
    }
   ],
   "source": [
    "# Use `head` to print the top three rows of the dataframe\n",
    "print(americas.head(n=3))"
   ]
  },
  {
   "cell_type": "code",
   "execution_count": 15,
   "id": "4b127e97-37d7-4dcc-9c73-bf5000a3a94e",
   "metadata": {},
   "outputs": [
    {
     "name": "stdout",
     "output_type": "stream",
     "text": [
      "          continent  gdpPercap_1952  gdpPercap_1957  gdpPercap_1962  \\\n",
      "country                                                               \n",
      "Uruguay    Americas     5716.766744     6150.772969     5603.357717   \n",
      "Venezuela  Americas     7689.799761     9802.466526     8422.974165   \n",
      "\n",
      "           gdpPercap_1967  gdpPercap_1972  gdpPercap_1977  gdpPercap_1982  \\\n",
      "country                                                                     \n",
      "Uruguay       5444.619620     5703.408898     6504.339663     6920.223051   \n",
      "Venezuela     9541.474188    10505.259660    13143.950950    11152.410110   \n",
      "\n",
      "           gdpPercap_1987  gdpPercap_1992  gdpPercap_1997  gdpPercap_2002  \\\n",
      "country                                                                     \n",
      "Uruguay       7452.398969     8137.004775     9230.240708     7727.002004   \n",
      "Venezuela     9883.584648    10733.926310    10165.495180     8605.047831   \n",
      "\n",
      "           gdpPercap_2007  \n",
      "country                    \n",
      "Uruguay       10611.46299  \n",
      "Venezuela     11415.80569  \n"
     ]
    }
   ],
   "source": [
    "# Use `tail` to print the bottom three rows of the dataframe\n",
    "print(americas.tail(n=2))"
   ]
  },
  {
   "cell_type": "code",
   "execution_count": 16,
   "id": "db91b29e-f672-4a54-a1fb-101b6345d349",
   "metadata": {},
   "outputs": [
    {
     "name": "stdout",
     "output_type": "stream",
     "text": [
      "       gdpPercap_1952  gdpPercap_1957  gdpPercap_1962  gdpPercap_1967  \\\n",
      "count        2.000000        2.000000        2.000000        2.000000   \n",
      "mean     10298.085650    11598.522455    12696.452430    14495.021790   \n",
      "std        365.560078      917.644806      677.727301       43.986086   \n",
      "min      10039.595640    10949.649590    12217.226860    14463.918930   \n",
      "25%      10168.840645    11274.086022    12456.839645    14479.470360   \n",
      "50%      10298.085650    11598.522455    12696.452430    14495.021790   \n",
      "75%      10427.330655    11922.958888    12936.065215    14510.573220   \n",
      "max      10556.575660    12247.395320    13175.678000    14526.124650   \n",
      "\n",
      "       gdpPercap_1972  gdpPercap_1977  gdpPercap_1982  gdpPercap_1987  \\\n",
      "count         2.00000        2.000000        2.000000        2.000000   \n",
      "mean      16417.33338    17283.957605    18554.709840    20448.040160   \n",
      "std         525.09198     1485.263517     1304.328377     2037.668013   \n",
      "min       16046.03728    16233.717700    17632.410400    19007.191290   \n",
      "25%       16231.68533    16758.837652    18093.560120    19727.615725   \n",
      "50%       16417.33338    17283.957605    18554.709840    20448.040160   \n",
      "75%       16602.98143    17809.077558    19015.859560    21168.464595   \n",
      "max       16788.62948    18334.197510    19477.009280    21888.889030   \n",
      "\n",
      "       gdpPercap_1992  gdpPercap_1997  gdpPercap_2002  gdpPercap_2007  \n",
      "count        2.000000        2.000000        2.000000        2.000000  \n",
      "mean     20894.045885    24024.175170    26938.778040    29810.188275  \n",
      "std       3578.979883     4205.533703     5301.853680     6540.991104  \n",
      "min      18363.324940    21050.413770    23189.801350    25185.009110  \n",
      "25%      19628.685412    22537.294470    25064.289695    27497.598692  \n",
      "50%      20894.045885    24024.175170    26938.778040    29810.188275  \n",
      "75%      22159.406358    25511.055870    28813.266385    32122.777858  \n",
      "max      23424.766830    26997.936570    30687.754730    34435.367440  \n"
     ]
    }
   ],
   "source": [
    "# Get summary statistics for columns with numerical data\n",
    "print(data.describe())"
   ]
  },
  {
   "cell_type": "code",
   "execution_count": 17,
   "id": "6aa50cf9-5199-4aef-b0b6-1b9ad7cbaff3",
   "metadata": {},
   "outputs": [
    {
     "name": "stdout",
     "output_type": "stream",
     "text": [
      "country           Argentina      Bolivia       Brazil       Canada  \\\n",
      "continent          Americas     Americas     Americas     Americas   \n",
      "gdpPercap_1952  5911.315053  2677.326347  2108.944355  11367.16112   \n",
      "gdpPercap_1957  6856.856212  2127.686326  2487.365989  12489.95006   \n",
      "gdpPercap_1962  7133.166023  2180.972546  3336.585802  13462.48555   \n",
      "gdpPercap_1967  8052.953021  2586.886053  3429.864357  16076.58803   \n",
      "gdpPercap_1972  9443.038526  2980.331339  4985.711467  18970.57086   \n",
      "gdpPercap_1977  10079.02674  3548.097832  6660.118654  22090.88306   \n",
      "gdpPercap_1982  8997.897412  3156.510452  7030.835878  22898.79214   \n",
      "gdpPercap_1987  9139.671389   2753.69149  7807.095818  26626.51503   \n",
      "gdpPercap_1992   9308.41871  2961.699694  6950.283021  26342.88426   \n",
      "gdpPercap_1997  10967.28195  3326.143191  7957.980824  28954.92589   \n",
      "gdpPercap_2002  8797.640716   3413.26269  8131.212843  33328.96507   \n",
      "gdpPercap_2007  12779.37964  3822.137084  9065.800825  36319.23501   \n",
      "\n",
      "country               Chile     Colombia   Costa Rica         Cuba  \\\n",
      "continent          Americas     Americas     Americas     Americas   \n",
      "gdpPercap_1952  3939.978789  2144.115096  2627.009471   5586.53878   \n",
      "gdpPercap_1957  4315.622723  2323.805581  2990.010802  6092.174359   \n",
      "gdpPercap_1962  4519.094331  2492.351109  3460.937025   5180.75591   \n",
      "gdpPercap_1967  5106.654313  2678.729839  4161.727834  5690.268015   \n",
      "gdpPercap_1972  5494.024437  3264.660041  5118.146939  5305.445256   \n",
      "gdpPercap_1977  4756.763836   3815.80787  5926.876967  6380.494966   \n",
      "gdpPercap_1982  5095.665738  4397.575659  5262.734751  7316.918107   \n",
      "gdpPercap_1987  5547.063754    4903.2191  5629.915318  7532.924763   \n",
      "gdpPercap_1992  7596.125964  5444.648617  6160.416317  5592.843963   \n",
      "gdpPercap_1997  10118.05318  6117.361746  6677.045314  5431.990415   \n",
      "gdpPercap_2002  10778.78385  5755.259962  7723.447195  6340.646683   \n",
      "gdpPercap_2007  13171.63885  7006.580419   9645.06142  8948.102923   \n",
      "\n",
      "country        Dominican Republic      Ecuador  ...       Mexico    Nicaragua  \\\n",
      "continent                Americas     Americas  ...     Americas     Americas   \n",
      "gdpPercap_1952        1397.717137  3522.110717  ...  3478.125529  3112.363948   \n",
      "gdpPercap_1957        1544.402995  3780.546651  ...  4131.546641  3457.415947   \n",
      "gdpPercap_1962        1662.137359  4086.114078  ...  4581.609385  3634.364406   \n",
      "gdpPercap_1967        1653.723003  4579.074215  ...  5754.733883  4643.393534   \n",
      "gdpPercap_1972        2189.874499   5280.99471  ...   6809.40669  4688.593267   \n",
      "gdpPercap_1977          2681.9889   6679.62326  ...  7674.929108  5486.371089   \n",
      "gdpPercap_1982        2861.092386  7213.791267  ...  9611.147541  3470.338156   \n",
      "gdpPercap_1987        2899.842175  6481.776993  ...  8688.156003  2955.984375   \n",
      "gdpPercap_1992        3044.214214  7103.702595  ...  9472.384295  2170.151724   \n",
      "gdpPercap_1997        3614.101285  7429.455877  ...   9767.29753  2253.023004   \n",
      "gdpPercap_2002        4563.808154  5773.044512  ...  10742.44053  2474.548819   \n",
      "gdpPercap_2007        6025.374752  6873.262326  ...  11977.57496  2749.320965   \n",
      "\n",
      "country              Panama     Paraguay         Peru  Puerto Rico  \\\n",
      "continent          Americas     Americas     Americas     Americas   \n",
      "gdpPercap_1952  2480.380334  1952.308701  3758.523437  3081.959785   \n",
      "gdpPercap_1957  2961.800905  2046.154706  4245.256698  3907.156189   \n",
      "gdpPercap_1962  3536.540301  2148.027146  4957.037982   5108.34463   \n",
      "gdpPercap_1967  4421.009084  2299.376311   5788.09333  6929.277714   \n",
      "gdpPercap_1972  5364.249663  2523.337977  5937.827283  9123.041742   \n",
      "gdpPercap_1977  5351.912144  3248.373311  6281.290855  9770.524921   \n",
      "gdpPercap_1982  7009.601598  4258.503604  6434.501797  10330.98915   \n",
      "gdpPercap_1987  7034.779161  3998.875695  6360.943444  12281.34191   \n",
      "gdpPercap_1992   6618.74305  4196.411078  4446.380924  14641.58711   \n",
      "gdpPercap_1997  7113.692252  4247.400261  5838.347657   16999.4333   \n",
      "gdpPercap_2002  7356.031934  3783.674243  5909.020073  18855.60618   \n",
      "gdpPercap_2007  9809.185636  4172.838464  7408.905561  19328.70901   \n",
      "\n",
      "country        Trinidad and Tobago United States      Uruguay    Venezuela  \n",
      "continent                 Americas      Americas     Americas     Americas  \n",
      "gdpPercap_1952         3023.271928   13990.48208  5716.766744  7689.799761  \n",
      "gdpPercap_1957           4100.3934   14847.12712  6150.772969  9802.466526  \n",
      "gdpPercap_1962         4997.523971   16173.14586  5603.357717  8422.974165  \n",
      "gdpPercap_1967         5621.368472   19530.36557   5444.61962  9541.474188  \n",
      "gdpPercap_1972         6619.551419   21806.03594  5703.408898  10505.25966  \n",
      "gdpPercap_1977         7899.554209   24072.63213  6504.339663  13143.95095  \n",
      "gdpPercap_1982         9119.528607   25009.55914  6920.223051  11152.41011  \n",
      "gdpPercap_1987         7388.597823   29884.35041  7452.398969  9883.584648  \n",
      "gdpPercap_1992         7370.990932   32003.93224  8137.004775  10733.92631  \n",
      "gdpPercap_1997         8792.573126   35767.43303  9230.240708  10165.49518  \n",
      "gdpPercap_2002         11460.60023   39097.09955  7727.002004  8605.047831  \n",
      "gdpPercap_2007         18008.50924   42951.65309  10611.46299  11415.80569  \n",
      "\n",
      "[13 rows x 25 columns]\n"
     ]
    }
   ],
   "source": [
    "# Save the transposed data into a new variable\n",
    "americas_flip = americas.T\n",
    "print(americas_flip)"
   ]
  },
  {
   "cell_type": "code",
   "execution_count": 18,
   "id": "81694234-6bda-47ff-9e1c-31bcc97eadc8",
   "metadata": {},
   "outputs": [
    {
     "name": "stdout",
     "output_type": "stream",
     "text": [
      "                    gdpPercap_2002 gdpPercap_2007\n",
      "country                                          \n",
      "Argentina              8797.640716    12779.37964\n",
      "Bolivia                 3413.26269    3822.137084\n",
      "Brazil                 8131.212843    9065.800825\n",
      "Canada                 33328.96507    36319.23501\n",
      "Chile                  10778.78385    13171.63885\n",
      "Colombia               5755.259962    7006.580419\n",
      "Costa Rica             7723.447195     9645.06142\n",
      "Cuba                   6340.646683    8948.102923\n",
      "Dominican Republic     4563.808154    6025.374752\n",
      "Ecuador                5773.044512    6873.262326\n",
      "El Salvador            5351.568666    5728.353514\n",
      "Guatemala              4858.347495    5186.050003\n",
      "Haiti                  1270.364932    1201.637154\n",
      "Honduras                3099.72866    3548.330846\n",
      "Jamaica                6994.774861    7320.880262\n",
      "Mexico                 10742.44053    11977.57496\n",
      "Nicaragua              2474.548819    2749.320965\n",
      "Panama                 7356.031934    9809.185636\n",
      "Paraguay               3783.674243    4172.838464\n",
      "Peru                   5909.020073    7408.905561\n",
      "Puerto Rico            18855.60618    19328.70901\n",
      "Trinidad and Tobago    11460.60023    18008.50924\n",
      "United States          39097.09955    42951.65309\n",
      "Uruguay                7727.002004    10611.46299\n",
      "Venezuela              8605.047831    11415.80569\n"
     ]
    }
   ],
   "source": [
    "# Print the last two rows of the dataframe and transpose for easier reading\n",
    "# Note: this is not saved as an object, it is only printed\n",
    "print(americas_flip.tail(n=2).T)"
   ]
  },
  {
   "cell_type": "code",
   "execution_count": 19,
   "id": "cf23044d-364a-4642-be6f-0825f04da6a9",
   "metadata": {},
   "outputs": [],
   "source": [
    "americas2 = americas_flip.tail(n=2).T"
   ]
  },
  {
   "cell_type": "code",
   "execution_count": 20,
   "id": "a1533319-5539-49ad-8309-6956f4f14a8d",
   "metadata": {},
   "outputs": [],
   "source": [
    "# Save modified dataframe as a new file\n",
    "americas2.to_csv('~/Desktop/data/americas2_processed.csv')"
   ]
  },
  {
   "cell_type": "code",
   "execution_count": 21,
   "id": "47bb1238-5b85-43a2-8932-f8de0e11a53d",
   "metadata": {},
   "outputs": [
    {
     "name": "stdout",
     "output_type": "stream",
     "text": [
      "                country  gdpPercap_2002  gdpPercap_2007\n",
      "0             Argentina     8797.640716    12779.379640\n",
      "1               Bolivia     3413.262690     3822.137084\n",
      "2                Brazil     8131.212843     9065.800825\n",
      "3                Canada    33328.965070    36319.235010\n",
      "4                 Chile    10778.783850    13171.638850\n",
      "5              Colombia     5755.259962     7006.580419\n",
      "6            Costa Rica     7723.447195     9645.061420\n",
      "7                  Cuba     6340.646683     8948.102923\n",
      "8    Dominican Republic     4563.808154     6025.374752\n",
      "9               Ecuador     5773.044512     6873.262326\n",
      "10          El Salvador     5351.568666     5728.353514\n",
      "11            Guatemala     4858.347495     5186.050003\n",
      "12                Haiti     1270.364932     1201.637154\n",
      "13             Honduras     3099.728660     3548.330846\n",
      "14              Jamaica     6994.774861     7320.880262\n",
      "15               Mexico    10742.440530    11977.574960\n",
      "16            Nicaragua     2474.548819     2749.320965\n",
      "17               Panama     7356.031934     9809.185636\n",
      "18             Paraguay     3783.674243     4172.838464\n",
      "19                 Peru     5909.020073     7408.905561\n",
      "20          Puerto Rico    18855.606180    19328.709010\n",
      "21  Trinidad and Tobago    11460.600230    18008.509240\n",
      "22        United States    39097.099550    42951.653090\n",
      "23              Uruguay     7727.002004    10611.462990\n",
      "24            Venezuela     8605.047831    11415.805690\n"
     ]
    }
   ],
   "source": [
    "# Read in the new data file by assigning a new variable name\n",
    "my_df = pd.read_csv('~/Desktop/data/americas2_processed.csv')\n",
    "print(my_df)"
   ]
  },
  {
   "cell_type": "markdown",
   "id": "eab9f9c7-f207-442c-a719-37d4cf62a61d",
   "metadata": {},
   "source": [
    "## Subsetting a Dataframe\n",
    "\n",
    "* Square brackets\n",
    "  * [] - results in Panda series\n",
    "  * [[]] - results in Pandas dataframe\n",
    "* Slicing\n",
    "  * [] - includes <b>start</b>, up to and excluding <b>end</b> index\n",
    "    * results in a dataframe with only the rows specified\n",
    "    * only row indices allowed\n",
    "* loc\n",
    "  * label-based, specify rows and columns based on row and column labels\n",
    "    * [] - results are a Pandas series\n",
    "    * [[]] - results are a dataframe\n",
    "      * <b>Note</b>: contrary to usual python slices, both the start and the the stop index are included\n",
    "* iloc\n",
    "  * similar to square brackets, iloc is integer based. Specify rows and columns by integer index\n",
    "    * [] - results are a Pandas series\n",
    "    * [[]] - results are a dataframe"
   ]
  },
  {
   "cell_type": "code",
   "execution_count": 129,
   "id": "cc54c912-933e-4b30-af6a-ba1890c7201d",
   "metadata": {},
   "outputs": [
    {
     "name": "stdout",
     "output_type": "stream",
     "text": [
      "(33, 13)\n",
      "               country  gdpPercap_1952  gdpPercap_1957  gdpPercap_1962  \\\n",
      "23         Philippines     1272.880995     1547.944844     1649.552153   \n",
      "24        Saudi Arabia     6459.554823     8157.591248    11626.419750   \n",
      "25           Singapore     2315.138227     2843.104409     3674.735572   \n",
      "26           Sri Lanka     1083.532030     1072.546602     1074.471960   \n",
      "27               Syria     1643.485354     2117.234893     2193.037133   \n",
      "28              Taiwan     1206.947913     1507.861290     1822.879028   \n",
      "29            Thailand      757.797418      793.577415     1002.199172   \n",
      "30             Vietnam      605.066492      676.285448      772.049160   \n",
      "31  West Bank and Gaza     1515.592329     1827.067742     2198.956312   \n",
      "32          Yemen Rep.      781.717576      804.830455      825.623201   \n",
      "\n",
      "    gdpPercap_1967  gdpPercap_1972  gdpPercap_1977  gdpPercap_1982  \\\n",
      "23     1814.127430     1989.374070     2373.204287     2603.273765   \n",
      "24    16903.048860    24837.428650    34167.762600    33693.175250   \n",
      "25     4977.418540     8597.756202    11210.089480    15169.161120   \n",
      "26     1135.514326     1213.395530     1348.775651     1648.079789   \n",
      "27     1881.923632     2571.423014     3195.484582     3761.837715   \n",
      "28     2643.858681     4062.523897     5596.519826     7426.354774   \n",
      "29     1295.460660     1524.358936     1961.224635     2393.219781   \n",
      "30      637.123289      699.501644      713.537120      707.235786   \n",
      "31     2649.715007     3133.409277     3682.831494     4336.032082   \n",
      "32      862.442146     1265.047031     1829.765177     1977.557010   \n",
      "\n",
      "    gdpPercap_1987  gdpPercap_1992  gdpPercap_1997  gdpPercap_2002  \\\n",
      "23     2189.634995     2279.324017     2536.534925     2650.921068   \n",
      "24    21198.261360    24841.617770    20586.690190    19014.541180   \n",
      "25    18861.530810    24769.891200    33519.476600    36023.105400   \n",
      "26     1876.766827     2153.739222     2664.477257     3015.378833   \n",
      "27     3116.774285     3340.542768     4014.238972     4090.925331   \n",
      "28    11054.561750    15215.657900    20206.820980    23235.423290   \n",
      "29     2982.653773     4616.896545     5852.625497     5913.187529   \n",
      "30      820.799445      989.023149     1385.896769     1764.456677   \n",
      "31     5107.197384     6017.654756     7110.667619     4515.487575   \n",
      "32     1971.741538     1879.496673     2117.484526     2234.820827   \n",
      "\n",
      "    gdpPercap_2007  \n",
      "23     3190.481016  \n",
      "24    21654.831940  \n",
      "25    47143.179640  \n",
      "26     3970.095407  \n",
      "27     4184.548089  \n",
      "28    28718.276840  \n",
      "29     7458.396327  \n",
      "30     2441.576404  \n",
      "31     3025.349798  \n",
      "32     2280.769906  \n",
      "(33, 12)\n",
      "                    gdpPercap_1952  gdpPercap_1957  gdpPercap_1962  \\\n",
      "country                                                              \n",
      "Philippines            1272.880995     1547.944844     1649.552153   \n",
      "Saudi Arabia           6459.554823     8157.591248    11626.419750   \n",
      "Singapore              2315.138227     2843.104409     3674.735572   \n",
      "Sri Lanka              1083.532030     1072.546602     1074.471960   \n",
      "Syria                  1643.485354     2117.234893     2193.037133   \n",
      "Taiwan                 1206.947913     1507.861290     1822.879028   \n",
      "Thailand                757.797418      793.577415     1002.199172   \n",
      "Vietnam                 605.066492      676.285448      772.049160   \n",
      "West Bank and Gaza     1515.592329     1827.067742     2198.956312   \n",
      "Yemen Rep.              781.717576      804.830455      825.623201   \n",
      "\n",
      "                    gdpPercap_1967  gdpPercap_1972  gdpPercap_1977  \\\n",
      "country                                                              \n",
      "Philippines            1814.127430     1989.374070     2373.204287   \n",
      "Saudi Arabia          16903.048860    24837.428650    34167.762600   \n",
      "Singapore              4977.418540     8597.756202    11210.089480   \n",
      "Sri Lanka              1135.514326     1213.395530     1348.775651   \n",
      "Syria                  1881.923632     2571.423014     3195.484582   \n",
      "Taiwan                 2643.858681     4062.523897     5596.519826   \n",
      "Thailand               1295.460660     1524.358936     1961.224635   \n",
      "Vietnam                 637.123289      699.501644      713.537120   \n",
      "West Bank and Gaza     2649.715007     3133.409277     3682.831494   \n",
      "Yemen Rep.              862.442146     1265.047031     1829.765177   \n",
      "\n",
      "                    gdpPercap_1982  gdpPercap_1987  gdpPercap_1992  \\\n",
      "country                                                              \n",
      "Philippines            2603.273765     2189.634995     2279.324017   \n",
      "Saudi Arabia          33693.175250    21198.261360    24841.617770   \n",
      "Singapore             15169.161120    18861.530810    24769.891200   \n",
      "Sri Lanka              1648.079789     1876.766827     2153.739222   \n",
      "Syria                  3761.837715     3116.774285     3340.542768   \n",
      "Taiwan                 7426.354774    11054.561750    15215.657900   \n",
      "Thailand               2393.219781     2982.653773     4616.896545   \n",
      "Vietnam                 707.235786      820.799445      989.023149   \n",
      "West Bank and Gaza     4336.032082     5107.197384     6017.654756   \n",
      "Yemen Rep.             1977.557010     1971.741538     1879.496673   \n",
      "\n",
      "                    gdpPercap_1997  gdpPercap_2002  gdpPercap_2007  \n",
      "country                                                             \n",
      "Philippines            2536.534925     2650.921068     3190.481016  \n",
      "Saudi Arabia          20586.690190    19014.541180    21654.831940  \n",
      "Singapore             33519.476600    36023.105400    47143.179640  \n",
      "Sri Lanka              2664.477257     3015.378833     3970.095407  \n",
      "Syria                  4014.238972     4090.925331     4184.548089  \n",
      "Taiwan                20206.820980    23235.423290    28718.276840  \n",
      "Thailand               5852.625497     5913.187529     7458.396327  \n",
      "Vietnam                1385.896769     1764.456677     2441.576404  \n",
      "West Bank and Gaza     7110.667619     4515.487575     3025.349798  \n",
      "Yemen Rep.             2117.484526     2234.820827     2280.769906  \n"
     ]
    }
   ],
   "source": [
    "# Use `loc`, row name, and single brackets to return series\n",
    "# Read csv data for asia\n",
    "asia = pd.read_csv('~/Desktop/data/gapminder_gdp_asia.csv')\n",
    "\n",
    "# Determine dimensions of dataframe\n",
    "print(asia.shape)\n",
    "\n",
    "# Look at the data\n",
    "print(asia.tail(n=10))\n",
    "\n",
    "# Read csv data for asia -- with row names as the country names\n",
    "# Notes: Singapore = 25, Thailand = 29\n",
    "asia = pd.read_csv('~/Desktop/data/gapminder_gdp_asia.csv', \n",
    "                   index_col = 'country')\n",
    "print(asia.shape)\n",
    "print(asia.tail(n=10))"
   ]
  },
  {
   "cell_type": "code",
   "execution_count": 131,
   "id": "65de1f2b-a78d-473c-8afb-deeeba6b3cae",
   "metadata": {},
   "outputs": [
    {
     "name": "stdout",
     "output_type": "stream",
     "text": [
      "2315.138227\n"
     ]
    }
   ],
   "source": [
    "# Return a specific value by providing the specific column and row labels\n",
    "print(asia.loc[\"Singapore\", \"gdpPercap_1952\"])"
   ]
  },
  {
   "cell_type": "code",
   "execution_count": 132,
   "id": "e412c5b6-8783-4f1b-adf9-fbed6d9047fa",
   "metadata": {},
   "outputs": [
    {
     "data": {
      "text/plain": [
       "gdpPercap_1952     2315.138227\n",
       "gdpPercap_1957     2843.104409\n",
       "gdpPercap_1962     3674.735572\n",
       "gdpPercap_1967     4977.418540\n",
       "gdpPercap_1972     8597.756202\n",
       "gdpPercap_1977    11210.089480\n",
       "gdpPercap_1982    15169.161120\n",
       "gdpPercap_1987    18861.530810\n",
       "gdpPercap_1992    24769.891200\n",
       "gdpPercap_1997    33519.476600\n",
       "gdpPercap_2002    36023.105400\n",
       "gdpPercap_2007    47143.179640\n",
       "Name: Singapore, dtype: float64"
      ]
     },
     "execution_count": 132,
     "metadata": {},
     "output_type": "execute_result"
    }
   ],
   "source": [
    "# Return the column for Singapore using the index value and the method `iloc`\n",
    "asia.iloc[25, :]"
   ]
  },
  {
   "cell_type": "code",
   "execution_count": 135,
   "id": "a57dbeb2-d5fd-4f17-80aa-bbc945459f19",
   "metadata": {},
   "outputs": [
    {
     "name": "stdout",
     "output_type": "stream",
     "text": [
      "           gdpPercap_1967  gdpPercap_1972  gdpPercap_1977\n",
      "country                                                  \n",
      "Singapore     4977.418540     8597.756202    11210.089480\n",
      "Sri Lanka     1135.514326     1213.395530     1348.775651\n",
      "Syria         1881.923632     2571.423014     3195.484582\n",
      "Taiwan        2643.858681     4062.523897     5596.519826\n",
      "Thailand      1295.460660     1524.358936     1961.224635\n"
     ]
    }
   ],
   "source": [
    "# Return the columns between and including Chile and Cuba between 1962 and 1972\n",
    "# start index = included\n",
    "# end index = excluded\n",
    "print(asia.iloc[25:30, 3:6])"
   ]
  },
  {
   "cell_type": "code",
   "execution_count": 137,
   "id": "bb4ca9b7-b421-4fa7-8dcf-c899de16f266",
   "metadata": {},
   "outputs": [
    {
     "name": "stdout",
     "output_type": "stream",
     "text": [
      "           gdpPercap_1962  gdpPercap_1967  gdpPercap_1972\n",
      "country                                                  \n",
      "Singapore     3674.735572     4977.418540     8597.756202\n",
      "Sri Lanka     1074.471960     1135.514326     1213.395530\n",
      "Syria         2193.037133     1881.923632     2571.423014\n",
      "Taiwan        1822.879028     2643.858681     4062.523897\n",
      "Thailand      1002.199172     1295.460660     1524.358936\n"
     ]
    }
   ],
   "source": [
    "# Print three columns in the rows including and between Chile and Cuba\n",
    "print(asia.loc['Singapore':'Thailand', 'gdpPercap_1962':'gdpPercap_1972'])"
   ]
  },
  {
   "cell_type": "code",
   "execution_count": 138,
   "id": "15407212-bd52-4e8b-b4cc-a0fca70109e5",
   "metadata": {},
   "outputs": [
    {
     "name": "stdout",
     "output_type": "stream",
     "text": [
      "           gdpPercap_1952  gdpPercap_1957  gdpPercap_1962  gdpPercap_1967  \\\n",
      "country                                                                     \n",
      "Singapore     2315.138227     2843.104409     3674.735572     4977.418540   \n",
      "Sri Lanka     1083.532030     1072.546602     1074.471960     1135.514326   \n",
      "Syria         1643.485354     2117.234893     2193.037133     1881.923632   \n",
      "Taiwan        1206.947913     1507.861290     1822.879028     2643.858681   \n",
      "Thailand       757.797418      793.577415     1002.199172     1295.460660   \n",
      "\n",
      "           gdpPercap_1972  gdpPercap_1977  gdpPercap_1982  gdpPercap_1987  \\\n",
      "country                                                                     \n",
      "Singapore     8597.756202    11210.089480    15169.161120    18861.530810   \n",
      "Sri Lanka     1213.395530     1348.775651     1648.079789     1876.766827   \n",
      "Syria         2571.423014     3195.484582     3761.837715     3116.774285   \n",
      "Taiwan        4062.523897     5596.519826     7426.354774    11054.561750   \n",
      "Thailand      1524.358936     1961.224635     2393.219781     2982.653773   \n",
      "\n",
      "           gdpPercap_1992  gdpPercap_1997  gdpPercap_2002  gdpPercap_2007  \n",
      "country                                                                    \n",
      "Singapore    24769.891200    33519.476600    36023.105400    47143.179640  \n",
      "Sri Lanka     2153.739222     2664.477257     3015.378833     3970.095407  \n",
      "Syria         3340.542768     4014.238972     4090.925331     4184.548089  \n",
      "Taiwan       15215.657900    20206.820980    23235.423290    28718.276840  \n",
      "Thailand      4616.896545     5852.625497     5913.187529     7458.396327  \n"
     ]
    }
   ],
   "source": [
    "# Print all (':') columns in the rows including and between Chile and Cuba\n",
    "print(asia.loc['Singapore':'Thailand', :])"
   ]
  },
  {
   "cell_type": "markdown",
   "id": "f9815dd9-1a5d-417d-afb3-2b2df4ba60d6",
   "metadata": {},
   "source": [
    "## Subsetting and Slicing Results can be used in Downstream Operations\n",
    "\n",
    "* Slicing\n",
    "  * You can select multiple elements from a list by selecting a range of elements. The result will be a new list of the choosen elements.\n",
    "All the same operations that work on on entire dataframes work the same way on subset data."
   ]
  },
  {
   "cell_type": "code",
   "execution_count": 139,
   "id": "0a81e959-e5b7-4df9-ac33-73bddd624776",
   "metadata": {},
   "outputs": [
    {
     "name": "stdout",
     "output_type": "stream",
     "text": [
      "gdpPercap_1962    3674.735572\n",
      "gdpPercap_1967    4977.418540\n",
      "gdpPercap_1972    8597.756202\n",
      "dtype: float64\n"
     ]
    }
   ],
   "source": [
    "# Determine the max value in each column\n",
    "print(asia.loc['Singapore':'Thailand', 'gdpPercap_1962':'gdpPercap_1972'].max())"
   ]
  },
  {
   "cell_type": "markdown",
   "id": "87c9bc26-1712-4fde-b6cd-e05eb7428c4d",
   "metadata": {},
   "source": [
    "* Comparison on each element can select data based on value\n",
    "* Results are a boolean dataframe, determining if the comparison request is True or False"
   ]
  },
  {
   "cell_type": "code",
   "execution_count": 140,
   "id": "94d97ebe-2dc0-4ad9-bac0-5be878d403b8",
   "metadata": {},
   "outputs": [
    {
     "name": "stdout",
     "output_type": "stream",
     "text": [
      "           gdpPercap_1962  gdpPercap_1967  gdpPercap_1972\n",
      "country                                                  \n",
      "Singapore     3674.735572     4977.418540     8597.756202\n",
      "Sri Lanka     1074.471960     1135.514326     1213.395530\n",
      "Syria         2193.037133     1881.923632     2571.423014\n",
      "Taiwan        1822.879028     2643.858681     4062.523897\n",
      "Thailand      1002.199172     1295.460660     1524.358936\n"
     ]
    }
   ],
   "source": [
    "# Determine the max value in each column\n",
    "subset_data = asia.loc['Singapore':'Thailand', 'gdpPercap_1962':'gdpPercap_1972']\n",
    "print(subset_data)"
   ]
  },
  {
   "cell_type": "code",
   "execution_count": 142,
   "id": "f5ade994-cfae-4bc3-8a43-c8e303882303",
   "metadata": {},
   "outputs": [
    {
     "name": "stdout",
     "output_type": "stream",
     "text": [
      "           gdpPercap_1962  gdpPercap_1967  gdpPercap_1972\n",
      "country                                                  \n",
      "Singapore            True            True            True\n",
      "Sri Lanka           False           False           False\n",
      "Syria                True           False            True\n",
      "Taiwan              False            True            True\n",
      "Thailand            False           False           False\n"
     ]
    }
   ],
   "source": [
    "# Subset data values exceeding 5000\n",
    "# Returns boolean data frame indicating matches to condition provided\n",
    "print(subset_data > 2000)"
   ]
  },
  {
   "cell_type": "code",
   "execution_count": 143,
   "id": "4df523b6-8a55-4168-bd3b-d2045bf79e94",
   "metadata": {},
   "outputs": [
    {
     "name": "stdout",
     "output_type": "stream",
     "text": [
      "           gdpPercap_1962  gdpPercap_1967  gdpPercap_1972\n",
      "country                                                  \n",
      "Singapore            True            True            True\n",
      "Sri Lanka           False           False           False\n",
      "Syria                True           False            True\n",
      "Taiwan              False            True            True\n",
      "Thailand            False           False           False\n",
      "           gdpPercap_1962  gdpPercap_1967  gdpPercap_1972\n",
      "country                                                  \n",
      "Singapore     3674.735572     4977.418540     8597.756202\n",
      "Sri Lanka             NaN             NaN             NaN\n",
      "Syria         2193.037133             NaN     2571.423014\n",
      "Taiwan                NaN     2643.858681     4062.523897\n",
      "Thailand              NaN             NaN             NaN\n"
     ]
    }
   ],
   "source": [
    "# Subset data values exceeding 5000 and save as variable name `mask`\n",
    "mask = subset_data > 2000\n",
    "print(mask)\n",
    "\n",
    "# Use the subset data values to only show the values that match the condition\n",
    "# `NaN (Not a Number) is shown where the boolean value is False (doesn't match condition)\n",
    "print(subset_data[mask])"
   ]
  },
  {
   "cell_type": "markdown",
   "id": "2229c7f7-8cce-4eb3-b293-17d08583aa01",
   "metadata": {},
   "source": [
    "# TODO FIX\n",
    "\n",
    "# Group By: Split-Apply-Combine\n",
    "\n",
    "Pandas vectorizing methods and grouping operations provide users the flexibility to analyze their data efficiently.\n",
    "\n",
    "Read more on <a href=jakevdp.github.io/PythonDataScienceHandbook/03.08-aggregation-and-grouping.html>Python Data Science Handbook</a>."
   ]
  },
  {
   "cell_type": "code",
   "execution_count": 54,
   "id": "55671768-ba9c-4665-b670-85f7c26bb0ae",
   "metadata": {},
   "outputs": [
    {
     "name": "stdout",
     "output_type": "stream",
     "text": [
      "(30, 12)\n",
      "                        gdpPercap_1952  gdpPercap_1957  gdpPercap_1962\n",
      "country                                                               \n",
      "Albania                    1601.056136     1942.284244     2312.888958\n",
      "Austria                    6137.076492     8842.598030    10750.721110\n",
      "Belgium                    8343.105127     9714.960623    10991.206760\n",
      "Bosnia and Herzegovina      973.533195     1353.989176     1709.683679\n",
      "Bulgaria                   2444.286648     3008.670727     4254.337839\n",
      "Croatia                    3119.236520     4338.231617     5477.890018\n",
      "Czech Republic             6876.140250     8256.343918    10136.867130\n",
      "Denmark                    9692.385245    11099.659350    13583.313510\n",
      "Finland                    6424.519071     7545.415386     9371.842561\n",
      "France                     7029.809327     8662.834898    10560.485530\n",
      "Germany                    7144.114393    10187.826650    12902.462910\n",
      "Greece                     3530.690067     4916.299889     6017.190733\n",
      "Hungary                    5263.673816     6040.180011     7550.359877\n",
      "Iceland                    7267.688428     9244.001412    10350.159060\n",
      "Ireland                    5210.280328     5599.077872     6631.597314\n",
      "Italy                      4931.404155     6248.656232     8243.582340\n",
      "Montenegro                 2647.585601     3682.259903     4649.593785\n",
      "Netherlands                8941.571858    11276.193440    12790.849560\n",
      "Norway                    10095.421720    11653.973040    13450.401510\n",
      "Poland                     4029.329699     4734.253019     5338.752143\n",
      "Portugal                   3068.319867     3774.571743     4727.954889\n",
      "Romania                    3144.613186     3943.370225     4734.997586\n",
      "Serbia                     3581.459448     4981.090891     6289.629157\n",
      "Slovak Republic            5074.659104     6093.262980     7481.107598\n",
      "Slovenia                   4215.041741     5862.276629     7402.303395\n",
      "Spain                      3834.034742     4564.802410     5693.843879\n",
      "Sweden                     8527.844662     9911.878226    12329.441920\n",
      "Switzerland               14734.232750    17909.489730    20431.092700\n",
      "Turkey                     1969.100980     2218.754257     2322.869908\n",
      "United Kingdom             9979.508487    11283.177950    12477.177070\n"
     ]
    }
   ],
   "source": [
    "# Load new data file\n",
    "europe = pd.read_csv('~/Desktop/data/gapminder_gdp_europe.csv', \n",
    "                      index_col = 'country')\n",
    "print(europe.shape)\n",
    "\n",
    "# Print all rows and only the first 3 columns\n",
    "print(europe.iloc[:, 0:3])"
   ]
  },
  {
   "cell_type": "code",
   "execution_count": 145,
   "id": "02bafb56-2e29-4ec1-82e6-2d5068b91da6",
   "metadata": {},
   "outputs": [
    {
     "name": "stdout",
     "output_type": "stream",
     "text": [
      "                        gdpPercap_1952  gdpPercap_1957  gdpPercap_1962  \\\n",
      "country                                                                  \n",
      "Albania                          False           False           False   \n",
      "Austria                           True            True            True   \n",
      "Belgium                           True            True            True   \n",
      "Bosnia and Herzegovina           False           False           False   \n",
      "Bulgaria                         False           False           False   \n",
      "\n",
      "                        gdpPercap_1967  gdpPercap_1972  gdpPercap_1977  \\\n",
      "country                                                                  \n",
      "Albania                          False           False           False   \n",
      "Austria                           True            True            True   \n",
      "Belgium                           True            True            True   \n",
      "Bosnia and Herzegovina           False           False           False   \n",
      "Bulgaria                         False           False           False   \n",
      "\n",
      "                        gdpPercap_1982  gdpPercap_1987  gdpPercap_1992  \\\n",
      "country                                                                  \n",
      "Albania                          False           False           False   \n",
      "Austria                           True            True            True   \n",
      "Belgium                           True            True            True   \n",
      "Bosnia and Herzegovina           False           False           False   \n",
      "Bulgaria                         False           False           False   \n",
      "\n",
      "                        gdpPercap_1997  gdpPercap_2002  gdpPercap_2007  \n",
      "country                                                                 \n",
      "Albania                          False           False           False  \n",
      "Austria                           True            True            True  \n",
      "Belgium                           True            True            True  \n",
      "Bosnia and Herzegovina           False           False           False  \n",
      "Bulgaria                         False           False           False  \n"
     ]
    }
   ],
   "source": [
    "# Subset the data into two groups.\n",
    "# Take the average GDP and separate between higher and lower than average\n",
    "mask_higher = europe > europe.mean()\n",
    "print(mask_higher.head(n=5))"
   ]
  },
  {
   "cell_type": "markdown",
   "id": "7d346d2f-b698-4660-9df2-5cd73fbdb02b",
   "metadata": {},
   "source": []
  }
 ],
 "metadata": {
  "kernelspec": {
   "display_name": "Python 3 (ipykernel)",
   "language": "python",
   "name": "python3"
  },
  "language_info": {
   "codemirror_mode": {
    "name": "ipython",
    "version": 3
   },
   "file_extension": ".py",
   "mimetype": "text/x-python",
   "name": "python",
   "nbconvert_exporter": "python",
   "pygments_lexer": "ipython3",
   "version": "3.10.1"
  }
 },
 "nbformat": 4,
 "nbformat_minor": 5
}
